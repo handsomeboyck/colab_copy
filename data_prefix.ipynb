{
  "nbformat": 4,
  "nbformat_minor": 5,
  "metadata": {
    "kernelspec": {
      "display_name": "Python 3",
      "language": "python",
      "name": "python3"
    },
    "language_info": {
      "codemirror_mode": {
        "name": "ipython",
        "version": 3
      },
      "file_extension": ".py",
      "mimetype": "text/x-python",
      "name": "python",
      "nbconvert_exporter": "python",
      "pygments_lexer": "ipython3",
      "version": "3.8.8"
    },
    "colab": {
      "name": "data_prefix.ipynb",
      "provenance": [],
      "include_colab_link": true
    }
  },
  "cells": [
    {
      "cell_type": "markdown",
      "metadata": {
        "id": "view-in-github",
        "colab_type": "text"
      },
      "source": [
        "<a href=\"https://colab.research.google.com/github/handsomeboyck/colab_copy/blob/master/data_prefix.ipynb\" target=\"_parent\"><img src=\"https://colab.research.google.com/assets/colab-badge.svg\" alt=\"Open In Colab\"/></a>"
      ]
    },
    {
      "cell_type": "code",
      "metadata": {
        "id": "e5304962",
        "outputId": "d8e679b9-640f-4917-f7a9-89b94d907a9e"
      },
      "source": [
        "ls"
      ],
      "id": "e5304962",
      "execution_count": null,
      "outputs": [
        {
          "output_type": "stream",
          "text": [
            " 驱动器 D 中的卷是 Data\n",
            " 卷的序列号是 D8DA-21A2\n",
            "\n",
            " D:\\software_workplace\\python_workplace\\ssh_python_workplace\\recommend\\data_prefix 的目录\n",
            "\n",
            "2021/07/30  16:59    <DIR>          .\n",
            "2021/07/30  16:59    <DIR>          ..\n",
            "2021/07/30  14:39    <DIR>          .ipynb_checkpoints\n",
            "2021/07/30  16:59            10,481 data_prefix.ipynb\n",
            "2021/07/30  14:39       265,105,635 ratings.dat\n",
            "2021/07/30  16:34         1,923,952 test_set\n",
            "2021/07/30  16:54         5,841,904 test_set_hash\n",
            "2021/07/30  16:34       133,837,236 train_set\n",
            "2021/07/30  16:54       403,964,180 train_set_hash\n",
            "               6 个文件    810,683,388 字节\n",
            "               3 个目录 282,565,521,408 可用字节\n"
          ],
          "name": "stdout"
        }
      ]
    },
    {
      "cell_type": "code",
      "metadata": {
        "id": "80806ed1"
      },
      "source": [
        "#读取数据\n",
        "data_file = './ratings.dat'\n",
        "lines = open(data_file)"
      ],
      "id": "80806ed1",
      "execution_count": null,
      "outputs": []
    },
    {
      "cell_type": "code",
      "metadata": {
        "id": "7e872d1d",
        "outputId": "f7226adc-a956-48f8-b43d-0619d550686f"
      },
      "source": [
        "#打印前十行\n",
        "for i,line in enumerate(lines):\n",
        "    if i>10:\n",
        "        break;\n",
        "    print(line)"
      ],
      "id": "7e872d1d",
      "execution_count": null,
      "outputs": [
        {
          "output_type": "stream",
          "text": [
            "1::122::5::838985046\n",
            "\n",
            "1::185::5::838983525\n",
            "\n",
            "1::231::5::838983392\n",
            "\n",
            "1::292::5::838983421\n",
            "\n",
            "1::316::5::838983392\n",
            "\n",
            "1::329::5::838983392\n",
            "\n",
            "1::355::5::838984474\n",
            "\n",
            "1::356::5::838983653\n",
            "\n",
            "1::362::5::838984885\n",
            "\n",
            "1::364::5::838983707\n",
            "\n",
            "1::370::5::838984596\n",
            "\n"
          ],
          "name": "stdout"
        }
      ]
    },
    {
      "cell_type": "code",
      "metadata": {
        "id": "72b2acf9",
        "outputId": "c3878b80-f07d-44c1-b29a-a50703a4ec53"
      },
      "source": [
        "#计算数据总量\n",
        "count = 0\n",
        "for line in lines:\n",
        "    count += 1\n",
        "print(count)"
      ],
      "id": "72b2acf9",
      "execution_count": null,
      "outputs": [
        {
          "output_type": "stream",
          "text": [
            "10000042\n"
          ],
          "name": "stdout"
        }
      ]
    },
    {
      "cell_type": "code",
      "metadata": {
        "id": "d7912c6c"
      },
      "source": [
        "def read_raw_data(file_path):\n",
        "    user_info = dict()\n",
        "    lines = open(file_path)\n",
        "    for line in lines:\n",
        "        tmp = line.strip().split(\"::\")\n",
        "        if len(tmp)<4:\n",
        "            continue\n",
        "        ui = user_info.get(tmp[0],None)\n",
        "        if ui is None:\n",
        "            user_info[tmp[0]] = [(tmp[1],tmp[2],tmp[3])]\n",
        "        else:\n",
        "            user_info[tmp[0]].append((tmp[1],tmp[2],tmp[3]))\n",
        "    return user_info"
      ],
      "id": "d7912c6c",
      "execution_count": null,
      "outputs": []
    },
    {
      "cell_type": "code",
      "metadata": {
        "id": "f1ef51cf"
      },
      "source": [
        "user_info = read_raw_data('./ratings.dat')"
      ],
      "id": "f1ef51cf",
      "execution_count": null,
      "outputs": []
    },
    {
      "cell_type": "code",
      "metadata": {
        "id": "16b14e03"
      },
      "source": [
        "#简单统计下用户的行为数，基于行为数过滤掉异常用户\n",
        "user_action_num = {}\n",
        "for k,v in user_info.items():\n",
        "    user_action_num[k] = len(v)\n"
      ],
      "id": "16b14e03",
      "execution_count": null,
      "outputs": []
    },
    {
      "cell_type": "code",
      "metadata": {
        "id": "be668937",
        "outputId": "351c0703-1da8-43de-caaa-3bab3468d379"
      },
      "source": [
        "import numpy as np\n",
        "user_stat = np.asanyarray(list(user_action_num.values()))\n",
        "print(\"用户总量：\",len(user_stat))\n",
        "max_num = np.max(user_stat)\n",
        "min_num = np.min(user_stat)\n",
        "median_num = np.median(user_stat)\n",
        "avg_num = np.average(user_stat)\n",
        "print(max_num)\n",
        "print(min_num)\n",
        "print(median_num)\n",
        "print(avg_num)"
      ],
      "id": "be668937",
      "execution_count": null,
      "outputs": [
        {
          "output_type": "stream",
          "text": [
            "用户总量： 69878\n",
            "7359\n",
            "20\n",
            "69.0\n",
            "143.10732991785684\n"
          ],
          "name": "stdout"
        }
      ]
    },
    {
      "cell_type": "code",
      "metadata": {
        "id": "7e223bd9",
        "outputId": "e96a480e-a996-4e2c-e1bc-f4ca99a740cf"
      },
      "source": [
        "filter_user_nums = 0\n",
        "for n in user_stat:\n",
        "    if n >2000:\n",
        "        filter_user_nums +=1\n",
        "print(filter_user_nums)"
      ],
      "id": "7e223bd9",
      "execution_count": null,
      "outputs": [
        {
          "output_type": "stream",
          "text": [
            "97\n"
          ],
          "name": "stdout"
        }
      ]
    },
    {
      "cell_type": "code",
      "metadata": {
        "id": "df3a5750",
        "outputId": "3d9263c0-f941-4aa4-b6a8-f751426194ca"
      },
      "source": [
        "#过滤掉行为数大于2000的\n",
        "def extract_valid_user(user_info):\n",
        "    user_info_filter_result = {}\n",
        "    for k,v in user_info.items():\n",
        "        if len(v) > 2000:\n",
        "            continue\n",
        "        user_info_filter_result[k] = v\n",
        "    return user_info_filter_result\n",
        "user_info = extract_valid_user(user_info)\n",
        "print(len(user_info))"
      ],
      "id": "df3a5750",
      "execution_count": null,
      "outputs": [
        {
          "output_type": "stream",
          "text": [
            "69781\n"
          ],
          "name": "stdout"
        }
      ]
    },
    {
      "cell_type": "code",
      "metadata": {
        "id": "7891e572"
      },
      "source": [
        "#基于时间序列进行排序，并定义训练集和测试集\n",
        "def spilt_train_test(user_info):\n",
        "    train_set = []\n",
        "    test_set = []\n",
        "    for k,v in user_info.items():\n",
        "        tmp = sorted(v,key=lambda _:_[2])\n",
        "        for i in range(len(tmp)):\n",
        "            if i <len(tmp)-2:\n",
        "                train_set.append(str(k)+\",\"+tmp[i][0]+\",\"+tmp[i][1])\n",
        "            else:\n",
        "                test_set.append(str(k)+\",\"+tmp[i][0]+\",\"+tmp[i][1])\n",
        "    return train_set,test_set\n",
        "train_set,test_set = spilt_train_test(user_info)"
      ],
      "id": "7891e572",
      "execution_count": null,
      "outputs": []
    },
    {
      "cell_type": "code",
      "metadata": {
        "id": "7a2b9acf"
      },
      "source": [
        "#将数据保存下来：\n",
        "def save_data(test_data,train_data,save_path_dir):\n",
        "    import random\n",
        "    random.shuffle(train_data)\n",
        "    random.shuffle(test_data)\n",
        "    with open(save_path_dir+\"train_set\",\"w\") as f:\n",
        "        for line in train_data:\n",
        "            f.write(line+\"\\n\")\n",
        "    with open(save_path_dir+\"test_set\",\"w\") as f:\n",
        "        for line in test_data:\n",
        "            f.write(line+\"\\n\")\n",
        "save_path = \"./\"\n",
        "save_data(test_set,train_set,save_path)"
      ],
      "id": "7a2b9acf",
      "execution_count": null,
      "outputs": []
    },
    {
      "cell_type": "code",
      "metadata": {
        "id": "dcbb2406",
        "outputId": "090434b6-b0d9-413d-8caf-2184be7b099a"
      },
      "source": [
        "#定义一个hash方法\n",
        "def data2hash(data):\n",
        "    mask60 = 0x0fffffffffffffff\n",
        "    seed = 131\n",
        "    hash = 0\n",
        "    for s in data:\n",
        "        hash = hash*seed +ord(s)\n",
        "    return hash&mask60\n",
        "print(data2hash(\"UserId=1\"))\n",
        "print(data2hash(\"MovieId=1\"))\n",
        "    "
      ],
      "id": "dcbb2406",
      "execution_count": null,
      "outputs": [
        {
          "output_type": "stream",
          "text": [
            "56860453140441778\n",
            "987707537618001015\n"
          ],
          "name": "stdout"
        }
      ]
    },
    {
      "cell_type": "code",
      "metadata": {
        "id": "527c1c2f"
      },
      "source": [
        "def tohash(file,save_path):\n",
        "    wfile = open(save_path,\"w\")\n",
        "    with open(file) as f:\n",
        "        for line in f:\n",
        "            tmp = line.strip().split(\",\")\n",
        "            user_id = data2hash(\"UserId=\"+tmp[0])\n",
        "            item_id = data2hash(\"MovieId=\"+tmp[1])\n",
        "            wfile.write(str(user_id)+\",\"+str(item_id)+\",\"+tmp[2]+\"\\n\")\n",
        "        wfile.close()\n",
        "train_file_path = \"./train_set\"\n",
        "train_file_save_path = \"./train_set_hash\"\n",
        "test_file_path = \"./test_set\"\n",
        "test_file_save_path = \"./test_set_hash\"\n",
        "tohash(train_file_path,train_file_save_path)\n",
        "tohash(test_file_path,test_file_save_path)"
      ],
      "id": "527c1c2f",
      "execution_count": null,
      "outputs": []
    },
    {
      "cell_type": "code",
      "metadata": {
        "id": "562e0852",
        "outputId": "49f8d83a-a2c7-46c5-9a9c-fc97e65d280b"
      },
      "source": [
        "ls"
      ],
      "id": "562e0852",
      "execution_count": null,
      "outputs": [
        {
          "output_type": "stream",
          "text": [
            " 驱动器 D 中的卷是 Data\n",
            " 卷的序列号是 D8DA-21A2\n",
            "\n",
            " D:\\software_workplace\\python_workplace\\ssh_python_workplace\\recommend\\data_prefix 的目录\n",
            "\n",
            "2021/07/30  16:54    <DIR>          .\n",
            "2021/07/30  16:54    <DIR>          ..\n",
            "2021/07/30  14:39    <DIR>          .ipynb_checkpoints\n",
            "2021/07/30  16:53             8,623 data_prefix.ipynb\n",
            "2021/07/30  14:39       265,105,635 ratings.dat\n",
            "2021/07/30  16:34         1,923,952 test_set\n",
            "2021/07/30  16:54         5,841,904 test_set_hash\n",
            "2021/07/30  16:34       133,837,236 train_set\n",
            "2021/07/30  16:54       403,964,180 train_set_hash\n",
            "               6 个文件    810,681,530 字节\n",
            "               3 个目录 346,246,377,472 可用字节\n"
          ],
          "name": "stdout"
        }
      ]
    },
    {
      "cell_type": "code",
      "metadata": {
        "id": "2f9cee92"
      },
      "source": [
        "import tensorflow as tf\n",
        "\n",
        "# 定义自己的tfrecord的格式\n",
        "def get_tfrecords_example(feature,label):\n",
        "    tfrecords_features = {\n",
        "        \"feature\":tf.train.Feature(int64_list=tf.train.Int64List(value=feature)),\n",
        "        \"label\":tf.train.Feature(float_list=tf.train.FloatList(value=label))\n",
        "    }\n",
        "    return tf.train.Example(\n",
        "        features = tf.train.Features(feature =tfrecords_features)\n",
        "    )"
      ],
      "id": "2f9cee92",
      "execution_count": null,
      "outputs": []
    },
    {
      "cell_type": "code",
      "metadata": {
        "id": "87ab6467",
        "outputId": "0ab5d25e-84b4-443c-bc37-46d7c2a7718a"
      },
      "source": [
        "def totfrecords(file,save_dir):\n",
        "    print(\"Process to tfrecord File:%s ....\" % file)\n",
        "    num = 0\n",
        "    writer = tf.io.TFRecordWriter(save_dir+\"/\"+\"part-0000\"+str(num)+\".tfrecords\")\n",
        "    lines = open(file)\n",
        "    for i,line in enumerate(lines):\n",
        "        tmp = line.strip().split(\",\")\n",
        "        feature = [int(tmp[0]),int(tmp[1])]\n",
        "        label =[float(1) if float(tmp[2])>=3 else float(0)]\n",
        "        example = get_tfrecords_example(feature,label)\n",
        "        writer.write(example.SerializeToString())\n",
        "        if (i+1) % 200000 ==0:\n",
        "            writer.close()\n",
        "            num +=1\n",
        "            writer = tf.io.TFRecordWriter(save_dir+\"/\"+\"part-0000\"+str(num)+\".tfrecords\")\n",
        "            \n",
        "    print(\"Process To tfrecord File: %s End\" %file)\n",
        "    writer.close()\n",
        "\n",
        "import os\n",
        "\n",
        "train_file_path =\"./train_set_hash\"\n",
        "train_totfrecord =\"./train_tf\"\n",
        "test_file_path = \"./test_set_hash\"\n",
        "test_totfrecord = \"./test_tf\"\n",
        "totfrecords(train_file_path,train_totfrecord)\n",
        "totfrecords(test_file_path,test_totfrecord)\n",
        "\n",
        "\n",
        "            "
      ],
      "id": "87ab6467",
      "execution_count": null,
      "outputs": [
        {
          "output_type": "stream",
          "text": [
            "Process to tfrecord File:./train_set_hash ....\n",
            "Process To tfrecord File: ./train_set_hash End\n",
            "Process to tfrecord File:./test_set_hash ....\n",
            "Process To tfrecord File: ./test_set_hash End\n"
          ],
          "name": "stdout"
        }
      ]
    },
    {
      "cell_type": "code",
      "metadata": {
        "id": "50826d59"
      },
      "source": [
        ""
      ],
      "id": "50826d59",
      "execution_count": null,
      "outputs": []
    }
  ]
}