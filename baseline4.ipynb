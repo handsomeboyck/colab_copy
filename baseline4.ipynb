{
  "nbformat": 4,
  "nbformat_minor": 0,
  "metadata": {
    "kernelspec": {
      "display_name": "Python 3",
      "language": "python",
      "name": "python3"
    },
    "language_info": {
      "codemirror_mode": {
        "name": "ipython",
        "version": 3
      },
      "file_extension": ".py",
      "mimetype": "text/x-python",
      "name": "python",
      "nbconvert_exporter": "python",
      "pygments_lexer": "ipython3",
      "version": "3.8.8"
    },
    "toc-autonumbering": true,
    "colab": {
      "name": "baseline4.ipynb",
      "provenance": [],
      "machine_shape": "hm",
      "include_colab_link": true
    },
    "accelerator": "GPU"
  },
  "cells": [
    {
      "cell_type": "markdown",
      "metadata": {
        "id": "view-in-github",
        "colab_type": "text"
      },
      "source": [
        "<a href=\"https://colab.research.google.com/github/handsomeboyck/colab_copy/blob/master/baseline4.ipynb\" target=\"_parent\"><img src=\"https://colab.research.google.com/assets/colab-badge.svg\" alt=\"Open In Colab\"/></a>"
      ]
    },
    {
      "cell_type": "markdown",
      "metadata": {
        "id": "tawkLB-mU0uT"
      },
      "source": [
        "# 基于多目标优化的视频推荐\n",
        "\n",
        "## 赛题简介\n",
        "\n",
        "推荐系统大多都是基于隐式反馈来做推荐，比如用户的点击、观看时长、评论、分享等，且不同隐式反馈表达了用户不同的喜好程度。如果仅仅以单目标对推荐结果进行衡量，会存在衡量不全面的问题。如视频场景，假设某个用户打开一个视频看了开头觉得不喜欢立马关掉，如果以点击为目标则体现的是用户感兴趣，但实际情况是用户对这个视频不感兴趣。从这个例子可以看出，在视频推荐中如果仅仅以点击为目标，可能忽视了用户更深层次的隐式反馈。因此，视频推荐除了关注用户点击，还需关注用户观看时长、分享等目标，期望通过多目标能更深入地挖掘用户兴趣，做更精准的推荐。\n",
        "\n",
        "https://developer.huawei.com/consumer/cn/activity/devStarAI/algo/competition.html#/preliminary/info/006/introduction\n",
        "\n",
        "## 赛题说明\n",
        "\n",
        "本赛题提供14天数据用于训练，1天数据用于测试，数据包括用户特征，视频内容特征，以及用户历史行为数据，选手基于给出的数据，提供推荐策略，目标是预测每位用户观看视频时长所在区间，且预测是否对视频进行分享。所提供的数据经过脱敏处理，保证数据安全。\n",
        "\n",
        "## 赛题类型\n",
        "\n",
        "- 评价指标：AUC加权和\n",
        "- 赛题类型：用户留存预测，结构化数据"
      ]
    },
    {
      "cell_type": "code",
      "metadata": {
        "id": "h68ZWtsdVBRN"
      },
      "source": [
        "# !cp -r /content/drive/MyDrive/MyWorkPlace/3 /content/"
      ],
      "execution_count": 1,
      "outputs": []
    },
    {
      "cell_type": "code",
      "metadata": {
        "id": "iJE3n08LVD9w"
      },
      "source": [
        "# from google.colab import drive\n",
        "# drive.mount('/content/drive')"
      ],
      "execution_count": 2,
      "outputs": []
    },
    {
      "cell_type": "markdown",
      "metadata": {
        "id": "zYeTeTS5U0uV"
      },
      "source": [
        "## 赛题数据\n",
        "\n",
        "https://digix-algo-challenge.obs.cn-east-2.myhuaweicloud.com/2021/AI/4d83d37a6bc6e83d0da3af019c18775c/2021_3_data.zip\n",
        "\n",
        "提供的数据包括用户维度、视频维度以及用户历史行为数据，以下按照这三个维度分别说明。\n",
        "\n",
        "\n",
        "### 用户特征\n",
        "\n",
        "| 字段名称 | 说明 | 是否为空 | 类型 | 取值样例 |\n",
        "| :------- | :--- | :------- | :--- | :------- |\n",
        "| user_id     | 用户ID   | 否   | string | 1    |\n",
        "| age         | 年龄段   | 是   | string | 0    |\n",
        "| gender      | 性别     | 是   | string | 1    |\n",
        "| country     | 国家     | 是   | string | 0    |\n",
        "| province    | 所在省份 | 是   | string | 0    |\n",
        "| city        | 所在城市 | 是   | string | 0    |\n",
        "| city_level  | 城市级别 | 是   | string | 0    |\n",
        "| device_name | 设备类型 | 是   | string | 0    |\n",
        "\n",
        "\n",
        "### 视频内容特征\n",
        "\n",
        "| 字段名称 | 说明 | 是否为空 | 类型 | 取值样例 |\n",
        "| :------- | :--- | :------- | :--- | :------- |\n",
        "| video_id            | 视频ID           | 否   | string | 16451                                                        |\n",
        "| video_name          | 视频名称         | 是   | string | 天下无贼                                                     |\n",
        "| video_tags          | 视频标签         | 是   | string | 扒手,反扒,t,tx,txm,txmz,txw,txwz,天下无贼,刘德华,刘若英,王宝强,冯小刚,张晞临,芒果TV,院线,剧情,李冰冰,葛优,动作,犯罪 |\n",
        "| video_description   | 视频描述         | 是   | string | 王薄（刘德华 饰）和王丽（刘若英 饰）本是一对最佳贼拍档，但因怀了王薄的孩子，王丽决定收手赎罪，两人产生分歧。在火车站遇到刚刚从城市里挣了一笔钱准备回老家用它盖房子娶媳妇的农村娃子傻根（王宝强 饰）后，王丽被他的单纯打动，决定暗中保护不使他的辛苦钱失窃，王薄却寻思找合适机会下手，但 最终因为“夫妻情深”归入了王丽的阵营。 不料傻根的钱早被以黎叔（葛优 饰）为头目的另一著名扒窃团伙盯上，于是一系列围绕傻根书包里的钞票、在王薄、王丽和黎叔团伙之间展开的强强斗争上演。 |\n",
        "| video_release_date  | 年代             | 是   | string | 2004/12/9                                                    |\n",
        "| video_director_list | 导演名称         | 是   | string | 冯小刚,林黎胜                                                |\n",
        "| video_actor_list    | 演员名称         | 是   | string | 刘德华,葛优,刘若英,王宝强                                    |\n",
        "| video_score         | 评分             | 是   | string | 8.5                                                          |\n",
        "| video_second_class  | 视频二级分类名称 | 是   | string | 喜剧,剧情,警匪,动作,犯罪                                     |\n",
        "| video_duration      | 视频时长，单位秒 | 是   | string | 7246                                                         |\n",
        "\n",
        "### 用户历史行为\n",
        "\n",
        "| 字段名称 | 说明 | 是否为空 | 类型 | 取值样例 |\n",
        "| :------- | :--- | :------- | :--- | :------- |\n",
        "| user_id          | 用户id             | 否   | string | 1         |\n",
        "| video_id         | 视频id             | 否   | string | 16451     |\n",
        "| is_watch         | 是否播放           | 是   | int    | 1         |\n",
        "| is_share         | 是否分享           | 是   | int    | 0         |\n",
        "| is_collect       | 是否收藏           | 是   | int    | 0         |\n",
        "| is_comment       | 是否评论           | 是   | int    | 0         |\n",
        "| watch_start_time | 观看时间           | 是   | string | 2020-11-3 |\n",
        "| watch_label      | 播放标签           | 是   | int    | 8         |\n",
        "| pt_d             | 时间，用于数据分区 | 是   | string | 20201103  |\n"
      ]
    },
    {
      "cell_type": "markdown",
      "metadata": {
        "id": "PoysUXQdU0uW"
      },
      "source": [
        "## 评估方式\n",
        "\n",
        "预测每位用户对视频观看时长所在区间，且预测是否对视频进行分享。本次比赛使用 AUC（ROC曲线下面积）作为评估指标，AUC 越高，代表结果越优，排名越靠前。各指标的AUC采用加权求和。\n",
        "\n",
        "$$score = α*(0.1*AUC_{watch1}+ 0.2*AUC_{watch2}+0.3*AUC_{watch3}+0.4*AUC_{watch4}+0.5*AUC_{watch5}+0.6*AUC_{watch6}+0.7*AUC_{watch7} +0.8*AUC_{watch8} +0.9*AUC_{watch9} )+β*AUC_{share}$$\n",
        "\n",
        "初赛：α为0.7，β为0.3\n",
        "\n",
        "其中：视频观看时长、label、加权权重的对应关系如下。\n",
        "\n",
        "| 观看时长区间【左闭右开区间】 | watch_label | 加权权重 |\n",
        "| :--------------------------- | :---------- | :------- |\n",
        "| 0~10%总片长    | 0    | 0    |\n",
        "| 10~20%总片长   | 1    | 0.1  |\n",
        "| 20%~30%总片长  | 2    | 0.2  |\n",
        "| 30%~40%总片长  | 3    | 0.3  |\n",
        "| 40%~50%总片长  | 4    | 0.4  |\n",
        "| 50%~60%总片长  | 5    | 0.5  |\n",
        "| 60%~70%总片长  | 6    | 0.6  |\n",
        "| 70%~80%总片长  | 7    | 0.7  |\n",
        "| 80%~90%总片长  | 8    | 0.8  |\n",
        "| 90%~100%总片长 | 9    | 0.9  |\n",
        "\n",
        "## 提交方式\n",
        "\n",
        "选手提交结果为一个submission.csv 文件, 编码采用无BOM 的UTF-8，格式如下：user_id, video_id, watch_label, is_share。\n",
        "\n",
        "其中user_id对应测试样本中的user_id，video_id对应测试样本的video_id，watch_label表示user_id观看video_id时长所在的时长区间，is_share表示用户是否对该视频进行了分享。user_id，video_id，watch_label，is_share间采用逗号分隔。\n",
        "\n",
        "提交文件格式参考如下示例：\n",
        "\n",
        "| user_id | video_id | watch_label | is_share |\n",
        "| :------ | :------- | :---------- | :------- |\n",
        "| 1    | 1    | 6    | 0    |\n",
        "| 1    | 1    | 9    | 1    |\n",
        "| ...  | ...  | ...  | ...  |"
      ]
    },
    {
      "cell_type": "code",
      "metadata": {
        "execution": {
          "iopub.execute_input": "2021-07-18T16:50:32.739502Z",
          "iopub.status.busy": "2021-07-18T16:50:32.738928Z",
          "iopub.status.idle": "2021-07-18T16:50:32.858053Z",
          "shell.execute_reply": "2021-07-18T16:50:32.856611Z",
          "shell.execute_reply.started": "2021-07-18T16:50:32.739454Z"
        },
        "tags": [],
        "colab": {
          "base_uri": "https://localhost:8080/"
        },
        "id": "nRu1z-OgU0uX",
        "outputId": "2cffe28f-2e7f-47e8-c7f5-052587000fa7"
      },
      "source": [
        "!ls 3/*/* --full-time -Ggh"
      ],
      "execution_count": 3,
      "outputs": [
        {
          "output_type": "stream",
          "text": [
            "-rw-------  1  40M 2021-08-18 12:55:30.980343568 +0000 3/testdata/test.csv\n",
            "\n",
            "3/traindata/history_behavior_data:\n",
            "total 56K\n",
            "drwx------ 2 4.0K 2021-08-18 12:56:18.523241683 +0000 20210419\n",
            "drwx------ 2 4.0K 2021-08-18 12:56:24.324718127 +0000 20210420\n",
            "drwx------ 2 4.0K 2021-08-18 12:56:12.450742982 +0000 20210421\n",
            "drwx------ 2 4.0K 2021-08-18 12:56:28.428055113 +0000 20210422\n",
            "drwx------ 2 4.0K 2021-08-18 12:56:04.168063525 +0000 20210423\n",
            "drwx------ 2 4.0K 2021-08-18 12:55:47.944733914 +0000 20210424\n",
            "drwx------ 2 4.0K 2021-08-18 12:56:07.645348512 +0000 20210425\n",
            "drwx------ 2 4.0K 2021-08-18 12:55:39.047004686 +0000 20210426\n",
            "drwx------ 2 4.0K 2021-08-18 12:55:44.035413519 +0000 20210427\n",
            "drwx------ 2 4.0K 2021-08-18 12:55:53.505189631 +0000 20210428\n",
            "drwx------ 2 4.0K 2021-08-18 12:55:41.540209021 +0000 20210429\n",
            "drwx------ 2 4.0K 2021-08-18 12:55:36.580802565 +0000 20210430\n",
            "drwx------ 2 4.0K 2021-08-18 12:55:57.553521419 +0000 20210501\n",
            "drwx------ 2 4.0K 2021-08-18 12:55:34.018592574 +0000 20210502\n",
            "\n",
            "3/traindata/user_features_data:\n",
            "total 139M\n",
            "-rw------- 1 139M 2021-08-18 12:55:33.641561674 +0000 user_features_data.csv\n",
            "\n",
            "3/traindata/video_features_data:\n",
            "total 35M\n",
            "-rw------- 1 35M 2021-08-18 12:56:37.149771381 +0000 video_features_data.csv\n"
          ],
          "name": "stdout"
        }
      ]
    },
    {
      "cell_type": "code",
      "metadata": {
        "execution": {
          "iopub.execute_input": "2021-07-18T17:15:46.427165Z",
          "iopub.status.busy": "2021-07-18T17:15:46.426685Z",
          "iopub.status.idle": "2021-07-18T17:15:46.558558Z",
          "shell.execute_reply": "2021-07-18T17:15:46.557438Z",
          "shell.execute_reply.started": "2021-07-18T17:15:46.427125Z"
        },
        "tags": [],
        "colab": {
          "base_uri": "https://localhost:8080/"
        },
        "id": "FLej2yLtU0uY",
        "outputId": "3dadcbae-03fe-421b-ea99-45ffbbe55324"
      },
      "source": [
        "!ls 3/traindata/history_behavior_data/20210419/"
      ],
      "execution_count": 4,
      "outputs": [
        {
          "output_type": "stream",
          "text": [
            "part-00000-236b99d5-456a-42b2-bd8d-3cbd61d21cc6-c000.csv\n"
          ],
          "name": "stdout"
        }
      ]
    },
    {
      "cell_type": "markdown",
      "metadata": {
        "id": "-glxPDwfU0uY"
      },
      "source": [
        "# 数据读取"
      ]
    },
    {
      "cell_type": "code",
      "metadata": {
        "execution": {
          "iopub.execute_input": "2021-07-20T13:21:41.720391Z",
          "iopub.status.busy": "2021-07-20T13:21:41.719833Z",
          "iopub.status.idle": "2021-07-20T13:22:46.583175Z",
          "shell.execute_reply": "2021-07-20T13:22:46.582702Z",
          "shell.execute_reply.started": "2021-07-20T13:21:41.720344Z"
        },
        "tags": [],
        "colab": {
          "base_uri": "https://localhost:8080/"
        },
        "id": "Fef8INGaU0uY",
        "outputId": "0e6de6ca-6e3b-4099-90eb-9cc8c5469015"
      },
      "source": [
        "import pandas as pd\n",
        "import glob, gc\n",
        "\n",
        "%pylab inline\n",
        "import seaborn as sns\n",
        "\n",
        "INPUT_PATH = './3'\n",
        "\n",
        "def reduce_mem(df):\n",
        "    start_mem = df.memory_usage().sum() / 1024 ** 2\n",
        "    for col in df.columns:\n",
        "        col_type = df[col].dtypes\n",
        "        if col_type != object:\n",
        "            c_min = df[col].min()\n",
        "            c_max = df[col].max()\n",
        "            if str(col_type)[:3] == 'int':\n",
        "                if c_min > np.iinfo(np.int8).min and c_max < np.iinfo(np.int8).max:\n",
        "                    df[col] = df[col].astype(np.int8)\n",
        "                elif c_min > np.iinfo(np.int16).min and c_max < np.iinfo(np.int16).max:\n",
        "                    df[col] = df[col].astype(np.int16)\n",
        "                elif c_min > np.iinfo(np.int32).min and c_max < np.iinfo(np.int32).max:\n",
        "                    df[col] = df[col].astype(np.int32)\n",
        "                elif c_min > np.iinfo(np.int64).min and c_max < np.iinfo(np.int64).max:\n",
        "                    df[col] = df[col].astype(np.int64)\n",
        "            else:\n",
        "                if c_min > np.finfo(np.float16).min and c_max < np.finfo(np.float16).max:\n",
        "                    df[col] = df[col].astype(np.float16)\n",
        "                elif c_min > np.finfo(np.float32).min and c_max < np.finfo(np.float32).max:\n",
        "                    df[col] = df[col].astype(np.float32)\n",
        "                else:\n",
        "                    df[col] = df[col].astype(np.float64)\n",
        "    end_mem = df.memory_usage().sum() / 1024 ** 2\n",
        "    print('{:.2f} Mb, {:.2f} Mb ({:.2f} %)'.format(start_mem, end_mem, 100 * (start_mem - end_mem) / start_mem))\n",
        "    gc.collect()\n",
        "    return df\n",
        "\n",
        "test_data = pd.read_csv(f'{INPUT_PATH}/testdata/test.csv', sep=',')\n",
        "user_features = pd.read_csv(f'{INPUT_PATH}/traindata/user_features_data/user_features_data.csv', sep='\\t')\n",
        "video_features = pd.read_csv(f'{INPUT_PATH}/traindata/video_features_data/video_features_data.csv', sep='\\t')\n",
        "history_behavior = pd.concat([\n",
        "    reduce_mem(pd.read_csv(x, sep='\\t')) for x in glob.glob(f'{INPUT_PATH}/traindata/history_behavior_data/*/*')\n",
        "])\n",
        "history_behavior = history_behavior.sort_values(by=['pt_d', 'user_id'])\n",
        "\n",
        "test_data = reduce_mem(test_data)\n",
        "user_features = reduce_mem(user_features)\n",
        "video_features = reduce_mem(video_features)\n",
        "history_behavior = reduce_mem(history_behavior)\n"
      ],
      "execution_count": 5,
      "outputs": [
        {
          "output_type": "stream",
          "text": [
            "Populating the interactive namespace from numpy and matplotlib\n"
          ],
          "name": "stdout"
        },
        {
          "output_type": "stream",
          "text": [
            "/usr/local/lib/python3.7/dist-packages/IPython/core/interactiveshell.py:2822: DtypeWarning: Columns (6) have mixed types.Specify dtype option on import or set low_memory=False.\n",
            "  if self.run_code(code, result):\n"
          ],
          "name": "stderr"
        },
        {
          "output_type": "stream",
          "text": [
            "387.82 Mb, 134.66 Mb (65.28 %)\n",
            "379.69 Mb, 131.84 Mb (65.28 %)\n",
            "368.09 Mb, 127.81 Mb (65.28 %)\n",
            "388.03 Mb, 134.73 Mb (65.28 %)\n",
            "397.30 Mb, 137.95 Mb (65.28 %)\n",
            "405.14 Mb, 140.67 Mb (65.28 %)\n",
            "444.39 Mb, 154.30 Mb (65.28 %)\n",
            "383.36 Mb, 133.11 Mb (65.28 %)\n",
            "347.10 Mb, 120.52 Mb (65.28 %)\n",
            "437.46 Mb, 151.90 Mb (65.28 %)\n",
            "378.43 Mb, 131.40 Mb (65.28 %)\n",
            "372.54 Mb, 129.35 Mb (65.28 %)\n",
            "448.31 Mb, 155.66 Mb (65.28 %)\n",
            "374.51 Mb, 130.04 Mb (65.28 %)\n",
            "43.06 Mb, 21.53 Mb (50.00 %)\n",
            "360.77 Mb, 73.28 Mb (79.69 %)\n",
            "3.79 Mb, 3.04 Mb (20.00 %)\n",
            "2526.41 Mb, 2526.41 Mb (0.00 %)\n"
          ],
          "name": "stdout"
        }
      ]
    },
    {
      "cell_type": "code",
      "metadata": {
        "execution": {
          "iopub.execute_input": "2021-07-20T13:23:05.582940Z",
          "iopub.status.busy": "2021-07-20T13:23:05.582374Z",
          "iopub.status.idle": "2021-07-20T13:23:05.596531Z",
          "shell.execute_reply": "2021-07-20T13:23:05.596046Z",
          "shell.execute_reply.started": "2021-07-20T13:23:05.582893Z"
        },
        "tags": [],
        "colab": {
          "base_uri": "https://localhost:8080/",
          "height": 203
        },
        "id": "cu-5dxZmU0uZ",
        "outputId": "d26cda64-8e89-4e46-8d95-a2fb0af9d009"
      },
      "source": [
        "user_features.head()"
      ],
      "execution_count": 6,
      "outputs": [
        {
          "output_type": "execute_result",
          "data": {
            "text/html": [
              "<div>\n",
              "<style scoped>\n",
              "    .dataframe tbody tr th:only-of-type {\n",
              "        vertical-align: middle;\n",
              "    }\n",
              "\n",
              "    .dataframe tbody tr th {\n",
              "        vertical-align: top;\n",
              "    }\n",
              "\n",
              "    .dataframe thead th {\n",
              "        text-align: right;\n",
              "    }\n",
              "</style>\n",
              "<table border=\"1\" class=\"dataframe\">\n",
              "  <thead>\n",
              "    <tr style=\"text-align: right;\">\n",
              "      <th></th>\n",
              "      <th>user_id</th>\n",
              "      <th>age</th>\n",
              "      <th>gender</th>\n",
              "      <th>country</th>\n",
              "      <th>province</th>\n",
              "      <th>city</th>\n",
              "      <th>city_level</th>\n",
              "      <th>device_name</th>\n",
              "    </tr>\n",
              "  </thead>\n",
              "  <tbody>\n",
              "    <tr>\n",
              "      <th>0</th>\n",
              "      <td>1757005</td>\n",
              "      <td>3</td>\n",
              "      <td>1</td>\n",
              "      <td>0</td>\n",
              "      <td>9</td>\n",
              "      <td>6</td>\n",
              "      <td>3</td>\n",
              "      <td>327</td>\n",
              "    </tr>\n",
              "    <tr>\n",
              "      <th>1</th>\n",
              "      <td>17938</td>\n",
              "      <td>0</td>\n",
              "      <td>0</td>\n",
              "      <td>0</td>\n",
              "      <td>4</td>\n",
              "      <td>22</td>\n",
              "      <td>3</td>\n",
              "      <td>327</td>\n",
              "    </tr>\n",
              "    <tr>\n",
              "      <th>2</th>\n",
              "      <td>4263520</td>\n",
              "      <td>1</td>\n",
              "      <td>0</td>\n",
              "      <td>0</td>\n",
              "      <td>19</td>\n",
              "      <td>1</td>\n",
              "      <td>5</td>\n",
              "      <td>327</td>\n",
              "    </tr>\n",
              "    <tr>\n",
              "      <th>3</th>\n",
              "      <td>1411600</td>\n",
              "      <td>3</td>\n",
              "      <td>0</td>\n",
              "      <td>0</td>\n",
              "      <td>5</td>\n",
              "      <td>138</td>\n",
              "      <td>1</td>\n",
              "      <td>327</td>\n",
              "    </tr>\n",
              "    <tr>\n",
              "      <th>4</th>\n",
              "      <td>3992242</td>\n",
              "      <td>2</td>\n",
              "      <td>0</td>\n",
              "      <td>0</td>\n",
              "      <td>0</td>\n",
              "      <td>142</td>\n",
              "      <td>0</td>\n",
              "      <td>327</td>\n",
              "    </tr>\n",
              "  </tbody>\n",
              "</table>\n",
              "</div>"
            ],
            "text/plain": [
              "   user_id  age  gender  country  province  city  city_level  device_name\n",
              "0  1757005    3       1        0         9     6           3          327\n",
              "1    17938    0       0        0         4    22           3          327\n",
              "2  4263520    1       0        0        19     1           5          327\n",
              "3  1411600    3       0        0         5   138           1          327\n",
              "4  3992242    2       0        0         0   142           0          327"
            ]
          },
          "metadata": {
            "tags": []
          },
          "execution_count": 6
        }
      ]
    },
    {
      "cell_type": "code",
      "metadata": {
        "execution": {
          "iopub.execute_input": "2021-07-20T13:23:06.060851Z",
          "iopub.status.busy": "2021-07-20T13:23:06.060334Z",
          "iopub.status.idle": "2021-07-20T13:23:06.074823Z",
          "shell.execute_reply": "2021-07-20T13:23:06.074285Z",
          "shell.execute_reply.started": "2021-07-20T13:23:06.060805Z"
        },
        "tags": [],
        "colab": {
          "base_uri": "https://localhost:8080/",
          "height": 643
        },
        "id": "Y_Ucd8JNU0ua",
        "outputId": "f505a59a-3a35-43d7-8b2a-32a4980bf1e6"
      },
      "source": [
        "video_features.head()"
      ],
      "execution_count": 7,
      "outputs": [
        {
          "output_type": "execute_result",
          "data": {
            "text/html": [
              "<div>\n",
              "<style scoped>\n",
              "    .dataframe tbody tr th:only-of-type {\n",
              "        vertical-align: middle;\n",
              "    }\n",
              "\n",
              "    .dataframe tbody tr th {\n",
              "        vertical-align: top;\n",
              "    }\n",
              "\n",
              "    .dataframe thead th {\n",
              "        text-align: right;\n",
              "    }\n",
              "</style>\n",
              "<table border=\"1\" class=\"dataframe\">\n",
              "  <thead>\n",
              "    <tr style=\"text-align: right;\">\n",
              "      <th></th>\n",
              "      <th>video_id</th>\n",
              "      <th>video_name</th>\n",
              "      <th>video_tags</th>\n",
              "      <th>video_description</th>\n",
              "      <th>video_release_date</th>\n",
              "      <th>video_director_list</th>\n",
              "      <th>video_actor_list</th>\n",
              "      <th>video_score</th>\n",
              "      <th>video_second_class</th>\n",
              "      <th>video_duration</th>\n",
              "    </tr>\n",
              "  </thead>\n",
              "  <tbody>\n",
              "    <tr>\n",
              "      <th>0</th>\n",
              "      <td>3460</td>\n",
              "      <td>脱皮爸爸</td>\n",
              "      <td>院线电影,家庭关系,命运</td>\n",
              "      <td>中年失意的儿子田力行（古天乐饰）在生活上遇到了重重危机：母亲病逝,工作不顺,妻子要求离婚。正...</td>\n",
              "      <td>2017-04-27</td>\n",
              "      <td>司徒慧焯</td>\n",
              "      <td>吴镇宇,古天乐,春夏,蔡洁</td>\n",
              "      <td>7.398438</td>\n",
              "      <td>剧情,喜剧,奇幻</td>\n",
              "      <td>5913</td>\n",
              "    </tr>\n",
              "    <tr>\n",
              "      <th>1</th>\n",
              "      <td>14553</td>\n",
              "      <td>喜气洋洋小金莲</td>\n",
              "      <td>古装喜剧,剧情片,喜剧片,内地电影,欢乐喜剧,爱情纠纷</td>\n",
              "      <td>故事始于西门庆为西门药业的“伟哥”产品寻找代言人，西门庆初见潘金莲，一时惊为天人，为成功抱得...</td>\n",
              "      <td>2015-12-30</td>\n",
              "      <td>杨珊珊,李亚玲</td>\n",
              "      <td>陈南飞,程隆妮,王闯,贾海涛,闫薇儿</td>\n",
              "      <td>5.601562</td>\n",
              "      <td>喜剧</td>\n",
              "      <td>6217</td>\n",
              "    </tr>\n",
              "    <tr>\n",
              "      <th>2</th>\n",
              "      <td>1214</td>\n",
              "      <td>风流家族</td>\n",
              "      <td>男女关系,家庭关系,命运,院线电影</td>\n",
              "      <td>香世仁（钟镇涛 饰）是家财万贯的香港富豪，在满足了一切物质上的要求后，他将生活的重心放在了儿...</td>\n",
              "      <td>2002-03-07</td>\n",
              "      <td>邱礼涛,杨漪珊</td>\n",
              "      <td>张家辉,卢巧音,钟镇涛,叶童,李蕙敏,张坚庭,袁洁莹,黄佩霞,齐芷瑶,刘以达,叶伟信,邹凯光...</td>\n",
              "      <td>6.800781</td>\n",
              "      <td>都市,喜剧,爱情,家庭</td>\n",
              "      <td>5963</td>\n",
              "    </tr>\n",
              "    <tr>\n",
              "      <th>3</th>\n",
              "      <td>30639</td>\n",
              "      <td>大提琴的故事</td>\n",
              "      <td>短片,动画片</td>\n",
              "      <td>低音大提琴演奏家史密斯科夫正要去参加某贵族的沙龙，途中他被河边的美丽景色所吸引，驻足观看。兴...</td>\n",
              "      <td>1949-01-01</td>\n",
              "      <td>伊里·特恩卡,契诃夫</td>\n",
              "      <td>NaN</td>\n",
              "      <td>NaN</td>\n",
              "      <td>动画,爱情</td>\n",
              "      <td>17371</td>\n",
              "    </tr>\n",
              "    <tr>\n",
              "      <th>4</th>\n",
              "      <td>38522</td>\n",
              "      <td>歌舞大王齐格飞</td>\n",
              "      <td>喜剧片,人物传记,浪漫爱情</td>\n",
              "      <td>罗伯特．Z．伦纳德导演的这部影片以百老汇最大的歌舞团——齐格菲歌舞团的创办人佛罗伦斯．齐格菲...</td>\n",
              "      <td>1936-04-08</td>\n",
              "      <td>罗伯特·Z·伦纳德,William Anthony McGuire</td>\n",
              "      <td>威廉·鲍威尔,玛娜·洛伊,路易丝·赖纳,弗兰克·摩根,范妮·布莱斯,弗吉尼亚·布鲁斯,雷吉纳...</td>\n",
              "      <td>7.699219</td>\n",
              "      <td>剧情,歌舞,喜剧</td>\n",
              "      <td>10608</td>\n",
              "    </tr>\n",
              "  </tbody>\n",
              "</table>\n",
              "</div>"
            ],
            "text/plain": [
              "   video_id video_name  ... video_second_class video_duration\n",
              "0      3460       脱皮爸爸  ...           剧情,喜剧,奇幻           5913\n",
              "1     14553    喜气洋洋小金莲  ...                 喜剧           6217\n",
              "2      1214       风流家族  ...        都市,喜剧,爱情,家庭           5963\n",
              "3     30639     大提琴的故事  ...              动画,爱情          17371\n",
              "4     38522    歌舞大王齐格飞  ...           剧情,歌舞,喜剧          10608\n",
              "\n",
              "[5 rows x 10 columns]"
            ]
          },
          "metadata": {
            "tags": []
          },
          "execution_count": 7
        }
      ]
    },
    {
      "cell_type": "code",
      "metadata": {
        "execution": {
          "iopub.execute_input": "2021-07-20T13:23:06.485925Z",
          "iopub.status.busy": "2021-07-20T13:23:06.485408Z",
          "iopub.status.idle": "2021-07-20T13:23:06.496079Z",
          "shell.execute_reply": "2021-07-20T13:23:06.495497Z",
          "shell.execute_reply.started": "2021-07-20T13:23:06.485879Z"
        },
        "tags": [],
        "colab": {
          "base_uri": "https://localhost:8080/",
          "height": 203
        },
        "id": "1uLZUr_RU0ua",
        "outputId": "3a0952eb-30b7-4db0-eab1-34bd72b1b083"
      },
      "source": [
        "history_behavior.head()"
      ],
      "execution_count": 8,
      "outputs": [
        {
          "output_type": "execute_result",
          "data": {
            "text/html": [
              "<div>\n",
              "<style scoped>\n",
              "    .dataframe tbody tr th:only-of-type {\n",
              "        vertical-align: middle;\n",
              "    }\n",
              "\n",
              "    .dataframe tbody tr th {\n",
              "        vertical-align: top;\n",
              "    }\n",
              "\n",
              "    .dataframe thead th {\n",
              "        text-align: right;\n",
              "    }\n",
              "</style>\n",
              "<table border=\"1\" class=\"dataframe\">\n",
              "  <thead>\n",
              "    <tr style=\"text-align: right;\">\n",
              "      <th></th>\n",
              "      <th>user_id</th>\n",
              "      <th>video_id</th>\n",
              "      <th>is_watch</th>\n",
              "      <th>is_share</th>\n",
              "      <th>is_collect</th>\n",
              "      <th>is_comment</th>\n",
              "      <th>watch_start_time</th>\n",
              "      <th>watch_label</th>\n",
              "      <th>pt_d</th>\n",
              "    </tr>\n",
              "  </thead>\n",
              "  <tbody>\n",
              "    <tr>\n",
              "      <th>3275583</th>\n",
              "      <td>2</td>\n",
              "      <td>22485</td>\n",
              "      <td>1</td>\n",
              "      <td>0</td>\n",
              "      <td>0</td>\n",
              "      <td>0</td>\n",
              "      <td>2021-04-19</td>\n",
              "      <td>3</td>\n",
              "      <td>20210419</td>\n",
              "    </tr>\n",
              "    <tr>\n",
              "      <th>3275584</th>\n",
              "      <td>2</td>\n",
              "      <td>25469</td>\n",
              "      <td>1</td>\n",
              "      <td>0</td>\n",
              "      <td>0</td>\n",
              "      <td>0</td>\n",
              "      <td>2021-04-18</td>\n",
              "      <td>3</td>\n",
              "      <td>20210419</td>\n",
              "    </tr>\n",
              "    <tr>\n",
              "      <th>5391986</th>\n",
              "      <td>2</td>\n",
              "      <td>28411</td>\n",
              "      <td>0</td>\n",
              "      <td>0</td>\n",
              "      <td>0</td>\n",
              "      <td>0</td>\n",
              "      <td>NaN</td>\n",
              "      <td>0</td>\n",
              "      <td>20210419</td>\n",
              "    </tr>\n",
              "    <tr>\n",
              "      <th>5391987</th>\n",
              "      <td>2</td>\n",
              "      <td>49484</td>\n",
              "      <td>0</td>\n",
              "      <td>0</td>\n",
              "      <td>0</td>\n",
              "      <td>0</td>\n",
              "      <td>NaN</td>\n",
              "      <td>0</td>\n",
              "      <td>20210419</td>\n",
              "    </tr>\n",
              "    <tr>\n",
              "      <th>5391988</th>\n",
              "      <td>2</td>\n",
              "      <td>7069</td>\n",
              "      <td>0</td>\n",
              "      <td>0</td>\n",
              "      <td>0</td>\n",
              "      <td>0</td>\n",
              "      <td>NaN</td>\n",
              "      <td>0</td>\n",
              "      <td>20210419</td>\n",
              "    </tr>\n",
              "  </tbody>\n",
              "</table>\n",
              "</div>"
            ],
            "text/plain": [
              "         user_id  video_id  is_watch  ...  watch_start_time  watch_label      pt_d\n",
              "3275583        2     22485         1  ...        2021-04-19            3  20210419\n",
              "3275584        2     25469         1  ...        2021-04-18            3  20210419\n",
              "5391986        2     28411         0  ...               NaN            0  20210419\n",
              "5391987        2     49484         0  ...               NaN            0  20210419\n",
              "5391988        2      7069         0  ...               NaN            0  20210419\n",
              "\n",
              "[5 rows x 9 columns]"
            ]
          },
          "metadata": {
            "tags": []
          },
          "execution_count": 8
        }
      ]
    },
    {
      "cell_type": "markdown",
      "metadata": {
        "id": "thlDZvA1U0ub"
      },
      "source": [
        "# 数据分析\n",
        "\n",
        "## 用户特征"
      ]
    },
    {
      "cell_type": "code",
      "metadata": {
        "execution": {
          "iopub.execute_input": "2021-07-20T13:23:07.496865Z",
          "iopub.status.busy": "2021-07-20T13:23:07.496331Z",
          "iopub.status.idle": "2021-07-20T13:23:07.505896Z",
          "shell.execute_reply": "2021-07-20T13:23:07.504753Z",
          "shell.execute_reply.started": "2021-07-20T13:23:07.496819Z"
        },
        "tags": [],
        "colab": {
          "base_uri": "https://localhost:8080/"
        },
        "id": "aPSxiWdhU0ub",
        "outputId": "857543b0-4d16-45b6-f879-c19dd14bcc35"
      },
      "source": [
        "user_features.dtypes"
      ],
      "execution_count": 9,
      "outputs": [
        {
          "output_type": "execute_result",
          "data": {
            "text/plain": [
              "user_id        int32\n",
              "age             int8\n",
              "gender          int8\n",
              "country         int8\n",
              "province        int8\n",
              "city           int16\n",
              "city_level      int8\n",
              "device_name    int16\n",
              "dtype: object"
            ]
          },
          "metadata": {
            "tags": []
          },
          "execution_count": 9
        }
      ]
    },
    {
      "cell_type": "code",
      "metadata": {
        "execution": {
          "iopub.execute_input": "2021-07-20T13:23:07.876951Z",
          "iopub.status.busy": "2021-07-20T13:23:07.876453Z",
          "iopub.status.idle": "2021-07-20T13:23:07.885279Z",
          "shell.execute_reply": "2021-07-20T13:23:07.884739Z",
          "shell.execute_reply.started": "2021-07-20T13:23:07.876908Z"
        },
        "tags": [],
        "colab": {
          "base_uri": "https://localhost:8080/",
          "height": 203
        },
        "id": "Ez0fMzG3U0ub",
        "outputId": "9a03195e-d917-4edf-9025-a6c6abf1e891"
      },
      "source": [
        "user_features.head()"
      ],
      "execution_count": 10,
      "outputs": [
        {
          "output_type": "execute_result",
          "data": {
            "text/html": [
              "<div>\n",
              "<style scoped>\n",
              "    .dataframe tbody tr th:only-of-type {\n",
              "        vertical-align: middle;\n",
              "    }\n",
              "\n",
              "    .dataframe tbody tr th {\n",
              "        vertical-align: top;\n",
              "    }\n",
              "\n",
              "    .dataframe thead th {\n",
              "        text-align: right;\n",
              "    }\n",
              "</style>\n",
              "<table border=\"1\" class=\"dataframe\">\n",
              "  <thead>\n",
              "    <tr style=\"text-align: right;\">\n",
              "      <th></th>\n",
              "      <th>user_id</th>\n",
              "      <th>age</th>\n",
              "      <th>gender</th>\n",
              "      <th>country</th>\n",
              "      <th>province</th>\n",
              "      <th>city</th>\n",
              "      <th>city_level</th>\n",
              "      <th>device_name</th>\n",
              "    </tr>\n",
              "  </thead>\n",
              "  <tbody>\n",
              "    <tr>\n",
              "      <th>0</th>\n",
              "      <td>1757005</td>\n",
              "      <td>3</td>\n",
              "      <td>1</td>\n",
              "      <td>0</td>\n",
              "      <td>9</td>\n",
              "      <td>6</td>\n",
              "      <td>3</td>\n",
              "      <td>327</td>\n",
              "    </tr>\n",
              "    <tr>\n",
              "      <th>1</th>\n",
              "      <td>17938</td>\n",
              "      <td>0</td>\n",
              "      <td>0</td>\n",
              "      <td>0</td>\n",
              "      <td>4</td>\n",
              "      <td>22</td>\n",
              "      <td>3</td>\n",
              "      <td>327</td>\n",
              "    </tr>\n",
              "    <tr>\n",
              "      <th>2</th>\n",
              "      <td>4263520</td>\n",
              "      <td>1</td>\n",
              "      <td>0</td>\n",
              "      <td>0</td>\n",
              "      <td>19</td>\n",
              "      <td>1</td>\n",
              "      <td>5</td>\n",
              "      <td>327</td>\n",
              "    </tr>\n",
              "    <tr>\n",
              "      <th>3</th>\n",
              "      <td>1411600</td>\n",
              "      <td>3</td>\n",
              "      <td>0</td>\n",
              "      <td>0</td>\n",
              "      <td>5</td>\n",
              "      <td>138</td>\n",
              "      <td>1</td>\n",
              "      <td>327</td>\n",
              "    </tr>\n",
              "    <tr>\n",
              "      <th>4</th>\n",
              "      <td>3992242</td>\n",
              "      <td>2</td>\n",
              "      <td>0</td>\n",
              "      <td>0</td>\n",
              "      <td>0</td>\n",
              "      <td>142</td>\n",
              "      <td>0</td>\n",
              "      <td>327</td>\n",
              "    </tr>\n",
              "  </tbody>\n",
              "</table>\n",
              "</div>"
            ],
            "text/plain": [
              "   user_id  age  gender  country  province  city  city_level  device_name\n",
              "0  1757005    3       1        0         9     6           3          327\n",
              "1    17938    0       0        0         4    22           3          327\n",
              "2  4263520    1       0        0        19     1           5          327\n",
              "3  1411600    3       0        0         5   138           1          327\n",
              "4  3992242    2       0        0         0   142           0          327"
            ]
          },
          "metadata": {
            "tags": []
          },
          "execution_count": 10
        }
      ]
    },
    {
      "cell_type": "code",
      "metadata": {
        "execution": {
          "iopub.execute_input": "2021-07-20T13:23:08.257439Z",
          "iopub.status.busy": "2021-07-20T13:23:08.256930Z",
          "iopub.status.idle": "2021-07-20T13:23:08.793496Z",
          "shell.execute_reply": "2021-07-20T13:23:08.792973Z",
          "shell.execute_reply.started": "2021-07-20T13:23:08.257394Z"
        },
        "tags": [],
        "colab": {
          "base_uri": "https://localhost:8080/"
        },
        "id": "5Hq6bYGxU0ub",
        "outputId": "a6c65ab8-d8f7-4483-c2f2-d49ff91af359"
      },
      "source": [
        "for col in user_features.columns: \n",
        "    print(user_features.shape, user_features[col].nunique())"
      ],
      "execution_count": 11,
      "outputs": [
        {
          "output_type": "stream",
          "text": [
            "(5910800, 8) 5910800\n",
            "(5910800, 8) 8\n",
            "(5910800, 8) 4\n",
            "(5910800, 8) 3\n",
            "(5910800, 8) 33\n",
            "(5910800, 8) 339\n",
            "(5910800, 8) 8\n",
            "(5910800, 8) 1826\n"
          ],
          "name": "stdout"
        }
      ]
    },
    {
      "cell_type": "code",
      "metadata": {
        "execution": {
          "iopub.execute_input": "2021-07-20T13:23:08.794635Z",
          "iopub.status.busy": "2021-07-20T13:23:08.794458Z",
          "iopub.status.idle": "2021-07-20T13:23:09.077807Z",
          "shell.execute_reply": "2021-07-20T13:23:09.077357Z",
          "shell.execute_reply.started": "2021-07-20T13:23:08.794619Z"
        },
        "tags": [],
        "colab": {
          "base_uri": "https://localhost:8080/",
          "height": 290
        },
        "id": "WHVLVhSUU0uc",
        "outputId": "b48c2e1d-0b52-4f04-cb91-ef569af5cb84"
      },
      "source": [
        "user_features['age'].value_counts().plot(kind='bar')"
      ],
      "execution_count": 12,
      "outputs": [
        {
          "output_type": "execute_result",
          "data": {
            "text/plain": [
              "<matplotlib.axes._subplots.AxesSubplot at 0x7f8b574665d0>"
            ]
          },
          "metadata": {
            "tags": []
          },
          "execution_count": 12
        },
        {
          "output_type": "display_data",
          "data": {
            "image/png": "[encoded data removed]",
            "text/plain": [
              "<Figure size 432x288 with 1 Axes>"
            ]
          },
          "metadata": {
            "tags": [],
            "needs_background": "light"
          }
        }
      ]
    },
    {
      "cell_type": "code",
      "metadata": {
        "execution": {
          "iopub.execute_input": "2021-07-20T13:23:09.217654Z",
          "iopub.status.busy": "2021-07-20T13:23:09.217140Z",
          "iopub.status.idle": "2021-07-20T13:23:09.317105Z",
          "shell.execute_reply": "2021-07-20T13:23:09.316592Z",
          "shell.execute_reply.started": "2021-07-20T13:23:09.217608Z"
        },
        "tags": [],
        "colab": {
          "base_uri": "https://localhost:8080/",
          "height": 290
        },
        "id": "38gBV4yaU0uc",
        "outputId": "fc78f19e-b0e0-42a3-bdcf-a399594bf2ed"
      },
      "source": [
        "user_features['gender'].value_counts().plot(kind='bar')"
      ],
      "execution_count": 13,
      "outputs": [
        {
          "output_type": "execute_result",
          "data": {
            "text/plain": [
              "<matplotlib.axes._subplots.AxesSubplot at 0x7f8b57345ed0>"
            ]
          },
          "metadata": {
            "tags": []
          },
          "execution_count": 13
        },
        {
          "output_type": "display_data",
          "data": {
            "image/png": "[encoded data removed]",
            "text/plain": [
              "<Figure size 432x288 with 1 Axes>"
            ]
          },
          "metadata": {
            "tags": [],
            "needs_background": "light"
          }
        }
      ]
    },
    {
      "cell_type": "code",
      "metadata": {
        "execution": {
          "iopub.execute_input": "2021-07-20T13:23:09.656308Z",
          "iopub.status.busy": "2021-07-20T13:23:09.655782Z",
          "iopub.status.idle": "2021-07-20T13:23:09.754754Z",
          "shell.execute_reply": "2021-07-20T13:23:09.754307Z",
          "shell.execute_reply.started": "2021-07-20T13:23:09.656261Z"
        },
        "tags": [],
        "colab": {
          "base_uri": "https://localhost:8080/",
          "height": 290
        },
        "id": "nQQ9sDqlU0uc",
        "outputId": "b57c0b6d-05ac-4a10-81d0-6c3960ef7f98"
      },
      "source": [
        "user_features['country'].value_counts().plot(kind='bar')"
      ],
      "execution_count": 14,
      "outputs": [
        {
          "output_type": "execute_result",
          "data": {
            "text/plain": [
              "<matplotlib.axes._subplots.AxesSubplot at 0x7f8b56e81a10>"
            ]
          },
          "metadata": {
            "tags": []
          },
          "execution_count": 14
        },
        {
          "output_type": "display_data",
          "data": {
            "image/png": "[encoded data removed]",
            "text/plain": [
              "<Figure size 432x288 with 1 Axes>"
            ]
          },
          "metadata": {
            "tags": [],
            "needs_background": "light"
          }
        }
      ]
    },
    {
      "cell_type": "code",
      "metadata": {
        "execution": {
          "iopub.execute_input": "2021-07-20T13:23:09.896911Z",
          "iopub.status.busy": "2021-07-20T13:23:09.896666Z",
          "iopub.status.idle": "2021-07-20T13:23:10.106002Z",
          "shell.execute_reply": "2021-07-20T13:23:10.105517Z",
          "shell.execute_reply.started": "2021-07-20T13:23:09.896890Z"
        },
        "tags": [],
        "colab": {
          "base_uri": "https://localhost:8080/",
          "height": 285
        },
        "id": "71moVhkPU0ud",
        "outputId": "0cd6d785-a409-458f-8675-92ee3fe62093"
      },
      "source": [
        "user_features['province'].value_counts().plot(kind='bar')"
      ],
      "execution_count": 15,
      "outputs": [
        {
          "output_type": "execute_result",
          "data": {
            "text/plain": [
              "<matplotlib.axes._subplots.AxesSubplot at 0x7f8b573a8bd0>"
            ]
          },
          "metadata": {
            "tags": []
          },
          "execution_count": 15
        },
        {
          "output_type": "display_data",
          "data": {
            "image/png": "[encoded data removed]",
            "text/plain": [
              "<Figure size 432x288 with 1 Axes>"
            ]
          },
          "metadata": {
            "tags": [],
            "needs_background": "light"
          }
        }
      ]
    },
    {
      "cell_type": "code",
      "metadata": {
        "execution": {
          "iopub.execute_input": "2021-07-20T13:23:10.225283Z",
          "iopub.status.busy": "2021-07-20T13:23:10.224765Z",
          "iopub.status.idle": "2021-07-20T13:23:13.044562Z",
          "shell.execute_reply": "2021-07-20T13:23:13.043957Z",
          "shell.execute_reply.started": "2021-07-20T13:23:10.225238Z"
        },
        "tags": [],
        "colab": {
          "base_uri": "https://localhost:8080/",
          "height": 291
        },
        "id": "XhlsKmKJU0ud",
        "outputId": "3a5cd424-9554-4942-b35a-4fc92a03961c"
      },
      "source": [
        "user_features['city'].value_counts().plot(kind='bar')"
      ],
      "execution_count": 16,
      "outputs": [
        {
          "output_type": "execute_result",
          "data": {
            "text/plain": [
              "<matplotlib.axes._subplots.AxesSubplot at 0x7f8b56cfe350>"
            ]
          },
          "metadata": {
            "tags": []
          },
          "execution_count": 16
        },
        {
          "output_type": "display_data",
          "data": {
            "image/png": "[encoded data removed]",
            "text/plain": [
              "<Figure size 432x288 with 1 Axes>"
            ]
          },
          "metadata": {
            "tags": [],
            "needs_background": "light"
          }
        }
      ]
    },
    {
      "cell_type": "code",
      "metadata": {
        "execution": {
          "iopub.execute_input": "2021-07-20T13:23:13.045580Z",
          "iopub.status.busy": "2021-07-20T13:23:13.045406Z",
          "iopub.status.idle": "2021-07-20T13:23:13.160810Z",
          "shell.execute_reply": "2021-07-20T13:23:13.160333Z",
          "shell.execute_reply.started": "2021-07-20T13:23:13.045565Z"
        },
        "tags": [],
        "colab": {
          "base_uri": "https://localhost:8080/",
          "height": 290
        },
        "id": "eRa2t-z1U0ud",
        "outputId": "2c73e8f7-01f2-4422-f2e3-d7c53bd9d87b"
      },
      "source": [
        "user_features['city_level'].value_counts().plot(kind='bar')"
      ],
      "execution_count": 17,
      "outputs": [
        {
          "output_type": "execute_result",
          "data": {
            "text/plain": [
              "<matplotlib.axes._subplots.AxesSubplot at 0x7f8b5660e850>"
            ]
          },
          "metadata": {
            "tags": []
          },
          "execution_count": 17
        },
        {
          "output_type": "display_data",
          "data": {
            "image/png": "[encoded data removed]",
            "text/plain": [
              "<Figure size 432x288 with 1 Axes>"
            ]
          },
          "metadata": {
            "tags": [],
            "needs_background": "light"
          }
        }
      ]
    },
    {
      "cell_type": "code",
      "metadata": {
        "execution": {
          "iopub.execute_input": "2021-07-20T13:23:13.161933Z",
          "iopub.status.busy": "2021-07-20T13:23:13.161757Z",
          "iopub.status.idle": "2021-07-20T13:23:29.105894Z",
          "shell.execute_reply": "2021-07-20T13:23:29.105382Z",
          "shell.execute_reply.started": "2021-07-20T13:23:13.161917Z"
        },
        "tags": [],
        "colab": {
          "base_uri": "https://localhost:8080/",
          "height": 298
        },
        "id": "gjB8R7BMU0ud",
        "outputId": "ea496069-1a9d-4043-8992-f6c180ef5e57"
      },
      "source": [
        "user_features['device_name'].value_counts().plot(kind='bar')"
      ],
      "execution_count": 18,
      "outputs": [
        {
          "output_type": "execute_result",
          "data": {
            "text/plain": [
              "<matplotlib.axes._subplots.AxesSubplot at 0x7f8b564255d0>"
            ]
          },
          "metadata": {
            "tags": []
          },
          "execution_count": 18
        },
        {
          "output_type": "display_data",
          "data": {
            "image/png": "[encoded data removed]",
            "text/plain": [
              "<Figure size 432x288 with 1 Axes>"
            ]
          },
          "metadata": {
            "tags": [],
            "needs_background": "light"
          }
        }
      ]
    },
    {
      "cell_type": "markdown",
      "metadata": {
        "id": "qlvYWANwU0ud"
      },
      "source": [
        "## 视频特征"
      ]
    },
    {
      "cell_type": "code",
      "metadata": {
        "execution": {
          "iopub.execute_input": "2021-07-20T13:24:01.649356Z",
          "iopub.status.busy": "2021-07-20T13:24:01.648787Z",
          "iopub.status.idle": "2021-07-20T13:24:01.662032Z",
          "shell.execute_reply": "2021-07-20T13:24:01.661440Z",
          "shell.execute_reply.started": "2021-07-20T13:24:01.649310Z"
        },
        "tags": [],
        "colab": {
          "base_uri": "https://localhost:8080/",
          "height": 643
        },
        "id": "TYXsu6-vU0ud",
        "outputId": "7e09ba09-3462-4202-bea6-6c7325d809d1"
      },
      "source": [
        "video_features.head()"
      ],
      "execution_count": 19,
      "outputs": [
        {
          "output_type": "execute_result",
          "data": {
            "text/html": [
              "<div>\n",
              "<style scoped>\n",
              "    .dataframe tbody tr th:only-of-type {\n",
              "        vertical-align: middle;\n",
              "    }\n",
              "\n",
              "    .dataframe tbody tr th {\n",
              "        vertical-align: top;\n",
              "    }\n",
              "\n",
              "    .dataframe thead th {\n",
              "        text-align: right;\n",
              "    }\n",
              "</style>\n",
              "<table border=\"1\" class=\"dataframe\">\n",
              "  <thead>\n",
              "    <tr style=\"text-align: right;\">\n",
              "      <th></th>\n",
              "      <th>video_id</th>\n",
              "      <th>video_name</th>\n",
              "      <th>video_tags</th>\n",
              "      <th>video_description</th>\n",
              "      <th>video_release_date</th>\n",
              "      <th>video_director_list</th>\n",
              "      <th>video_actor_list</th>\n",
              "      <th>video_score</th>\n",
              "      <th>video_second_class</th>\n",
              "      <th>video_duration</th>\n",
              "    </tr>\n",
              "  </thead>\n",
              "  <tbody>\n",
              "    <tr>\n",
              "      <th>0</th>\n",
              "      <td>3460</td>\n",
              "      <td>脱皮爸爸</td>\n",
              "      <td>院线电影,家庭关系,命运</td>\n",
              "      <td>中年失意的儿子田力行（古天乐饰）在生活上遇到了重重危机：母亲病逝,工作不顺,妻子要求离婚。正...</td>\n",
              "      <td>2017-04-27</td>\n",
              "      <td>司徒慧焯</td>\n",
              "      <td>吴镇宇,古天乐,春夏,蔡洁</td>\n",
              "      <td>7.398438</td>\n",
              "      <td>剧情,喜剧,奇幻</td>\n",
              "      <td>5913</td>\n",
              "    </tr>\n",
              "    <tr>\n",
              "      <th>1</th>\n",
              "      <td>14553</td>\n",
              "      <td>喜气洋洋小金莲</td>\n",
              "      <td>古装喜剧,剧情片,喜剧片,内地电影,欢乐喜剧,爱情纠纷</td>\n",
              "      <td>故事始于西门庆为西门药业的“伟哥”产品寻找代言人，西门庆初见潘金莲，一时惊为天人，为成功抱得...</td>\n",
              "      <td>2015-12-30</td>\n",
              "      <td>杨珊珊,李亚玲</td>\n",
              "      <td>陈南飞,程隆妮,王闯,贾海涛,闫薇儿</td>\n",
              "      <td>5.601562</td>\n",
              "      <td>喜剧</td>\n",
              "      <td>6217</td>\n",
              "    </tr>\n",
              "    <tr>\n",
              "      <th>2</th>\n",
              "      <td>1214</td>\n",
              "      <td>风流家族</td>\n",
              "      <td>男女关系,家庭关系,命运,院线电影</td>\n",
              "      <td>香世仁（钟镇涛 饰）是家财万贯的香港富豪，在满足了一切物质上的要求后，他将生活的重心放在了儿...</td>\n",
              "      <td>2002-03-07</td>\n",
              "      <td>邱礼涛,杨漪珊</td>\n",
              "      <td>张家辉,卢巧音,钟镇涛,叶童,李蕙敏,张坚庭,袁洁莹,黄佩霞,齐芷瑶,刘以达,叶伟信,邹凯光...</td>\n",
              "      <td>6.800781</td>\n",
              "      <td>都市,喜剧,爱情,家庭</td>\n",
              "      <td>5963</td>\n",
              "    </tr>\n",
              "    <tr>\n",
              "      <th>3</th>\n",
              "      <td>30639</td>\n",
              "      <td>大提琴的故事</td>\n",
              "      <td>短片,动画片</td>\n",
              "      <td>低音大提琴演奏家史密斯科夫正要去参加某贵族的沙龙，途中他被河边的美丽景色所吸引，驻足观看。兴...</td>\n",
              "      <td>1949-01-01</td>\n",
              "      <td>伊里·特恩卡,契诃夫</td>\n",
              "      <td>NaN</td>\n",
              "      <td>NaN</td>\n",
              "      <td>动画,爱情</td>\n",
              "      <td>17371</td>\n",
              "    </tr>\n",
              "    <tr>\n",
              "      <th>4</th>\n",
              "      <td>38522</td>\n",
              "      <td>歌舞大王齐格飞</td>\n",
              "      <td>喜剧片,人物传记,浪漫爱情</td>\n",
              "      <td>罗伯特．Z．伦纳德导演的这部影片以百老汇最大的歌舞团——齐格菲歌舞团的创办人佛罗伦斯．齐格菲...</td>\n",
              "      <td>1936-04-08</td>\n",
              "      <td>罗伯特·Z·伦纳德,William Anthony McGuire</td>\n",
              "      <td>威廉·鲍威尔,玛娜·洛伊,路易丝·赖纳,弗兰克·摩根,范妮·布莱斯,弗吉尼亚·布鲁斯,雷吉纳...</td>\n",
              "      <td>7.699219</td>\n",
              "      <td>剧情,歌舞,喜剧</td>\n",
              "      <td>10608</td>\n",
              "    </tr>\n",
              "  </tbody>\n",
              "</table>\n",
              "</div>"
            ],
            "text/plain": [
              "   video_id video_name  ... video_second_class video_duration\n",
              "0      3460       脱皮爸爸  ...           剧情,喜剧,奇幻           5913\n",
              "1     14553    喜气洋洋小金莲  ...                 喜剧           6217\n",
              "2      1214       风流家族  ...        都市,喜剧,爱情,家庭           5963\n",
              "3     30639     大提琴的故事  ...              动画,爱情          17371\n",
              "4     38522    歌舞大王齐格飞  ...           剧情,歌舞,喜剧          10608\n",
              "\n",
              "[5 rows x 10 columns]"
            ]
          },
          "metadata": {
            "tags": []
          },
          "execution_count": 19
        }
      ]
    },
    {
      "cell_type": "markdown",
      "metadata": {
        "id": "z59ncIavU0ue"
      },
      "source": [
        "## 用户行为"
      ]
    },
    {
      "cell_type": "code",
      "metadata": {
        "execution": {
          "iopub.execute_input": "2021-07-20T13:24:03.875082Z",
          "iopub.status.busy": "2021-07-20T13:24:03.874557Z",
          "iopub.status.idle": "2021-07-20T13:24:10.120488Z",
          "shell.execute_reply": "2021-07-20T13:24:10.119742Z",
          "shell.execute_reply.started": "2021-07-20T13:24:03.875037Z"
        },
        "tags": [],
        "colab": {
          "base_uri": "https://localhost:8080/"
        },
        "id": "7NfOxLwXU0ue",
        "outputId": "42b7d8b0-3817-4284-c17b-7c1f4a6a6dd2"
      },
      "source": [
        "for col in history_behavior.columns: \n",
        "    print(history_behavior.shape, history_behavior[col].nunique())"
      ],
      "execution_count": 20,
      "outputs": [
        {
          "output_type": "stream",
          "text": [
            "(80276856, 9) 3953209\n",
            "(80276856, 9) 34218\n",
            "(80276856, 9) 2\n",
            "(80276856, 9) 2\n",
            "(80276856, 9) 2\n",
            "(80276856, 9) 2\n",
            "(80276856, 9) 91\n",
            "(80276856, 9) 10\n",
            "(80276856, 9) 14\n"
          ],
          "name": "stdout"
        }
      ]
    },
    {
      "cell_type": "code",
      "metadata": {
        "execution": {
          "iopub.execute_input": "2021-07-20T13:24:41.553858Z",
          "iopub.status.busy": "2021-07-20T13:24:41.553309Z",
          "iopub.status.idle": "2021-07-20T13:24:48.063561Z",
          "shell.execute_reply": "2021-07-20T13:24:48.063078Z",
          "shell.execute_reply.started": "2021-07-20T13:24:41.553826Z"
        },
        "tags": [],
        "colab": {
          "base_uri": "https://localhost:8080/"
        },
        "id": "08hwYT_4U0ue",
        "outputId": "b76c2f76-be05-4493-8dc7-22d679c09758"
      },
      "source": [
        "len(set(test_data['user_id']) & set(history_behavior['user_id']))"
      ],
      "execution_count": 21,
      "outputs": [
        {
          "output_type": "execute_result",
          "data": {
            "text/plain": [
              "422143"
            ]
          },
          "metadata": {
            "tags": []
          },
          "execution_count": 21
        }
      ]
    },
    {
      "cell_type": "code",
      "metadata": {
        "execution": {
          "iopub.execute_input": "2021-07-20T13:25:10.205084Z",
          "iopub.status.busy": "2021-07-20T13:25:10.204512Z",
          "iopub.status.idle": "2021-07-20T13:25:10.268416Z",
          "shell.execute_reply": "2021-07-20T13:25:10.267965Z",
          "shell.execute_reply.started": "2021-07-20T13:25:10.205037Z"
        },
        "tags": [],
        "colab": {
          "base_uri": "https://localhost:8080/"
        },
        "id": "5sd3Vb9TU0ue",
        "outputId": "0b8f693a-460c-4bab-901b-20a01f56969f"
      },
      "source": [
        "test_data['user_id'].nunique()"
      ],
      "execution_count": 22,
      "outputs": [
        {
          "output_type": "execute_result",
          "data": {
            "text/plain": [
              "492174"
            ]
          },
          "metadata": {
            "tags": []
          },
          "execution_count": 22
        }
      ]
    },
    {
      "cell_type": "code",
      "metadata": {
        "execution": {
          "iopub.execute_input": "2021-07-20T13:25:30.871810Z",
          "iopub.status.busy": "2021-07-20T13:25:30.871236Z",
          "iopub.status.idle": "2021-07-20T13:25:33.277446Z",
          "shell.execute_reply": "2021-07-20T13:25:33.276489Z",
          "shell.execute_reply.started": "2021-07-20T13:25:30.871763Z"
        },
        "tags": [],
        "id": "PIo9D3YrU0ue"
      },
      "source": [
        "history_behavior = history_behavior[history_behavior['user_id'].isin(test_data['user_id'].unique())]\n",
        "val_behavior = history_behavior[(history_behavior['pt_d'] == 20210502) | (history_behavior['pt_d'] == 20210501) ]\n",
        "train_behavior = history_behavior[(history_behavior['pt_d'] != 20210502) & (history_behavior['pt_d'] != 20210501)]\n",
        "\n",
        "val_behavior = val_behavior.rename(columns={\"watch_label\": \"val_watch\", \"is_share\": \"val_share\"})"
      ],
      "execution_count": 25,
      "outputs": []
    },
    {
      "cell_type": "code",
      "metadata": {
        "execution": {
          "iopub.execute_input": "2021-07-20T13:25:42.148035Z",
          "iopub.status.busy": "2021-07-20T13:25:42.147464Z",
          "iopub.status.idle": "2021-07-20T13:25:49.704282Z",
          "shell.execute_reply": "2021-07-20T13:25:49.703582Z",
          "shell.execute_reply.started": "2021-07-20T13:25:42.147987Z"
        },
        "tags": [],
        "id": "GjCxGlZWU0ue"
      },
      "source": [
        "train_behavior = pd.merge(train_behavior, \n",
        "                          val_behavior[['user_id', 'video_id', 'val_watch', 'val_share']], \n",
        "                          on=['user_id', 'video_id'], how='left')\n",
        "\n",
        "train_behavior['val_watch'] = train_behavior['val_watch'].fillna(0)\n",
        "train_behavior['val_share'] = train_behavior['val_share'].fillna(0)\n",
        "\n",
        "train_behavior = pd.concat([\n",
        "    train_behavior[train_behavior['val_watch'] == 0].sample(50000),\n",
        "    train_behavior[train_behavior['val_watch'] != 0]\n",
        "])"
      ],
      "execution_count": 26,
      "outputs": []
    },
    {
      "cell_type": "code",
      "metadata": {
        "execution": {
          "iopub.execute_input": "2021-07-20T13:26:04.546139Z",
          "iopub.status.busy": "2021-07-20T13:26:04.545564Z",
          "iopub.status.idle": "2021-07-20T13:26:04.552875Z",
          "shell.execute_reply": "2021-07-20T13:26:04.552287Z",
          "shell.execute_reply.started": "2021-07-20T13:26:04.546092Z"
        },
        "tags": [],
        "colab": {
          "base_uri": "https://localhost:8080/"
        },
        "id": "_m0QufLKU0uf",
        "outputId": "7f37df07-5634-4f85-ceab-31f8af9d0f5c"
      },
      "source": [
        "train_behavior['val_watch'].value_counts()"
      ],
      "execution_count": 27,
      "outputs": [
        {
          "output_type": "execute_result",
          "data": {
            "text/plain": [
              "0.0    50000\n",
              "1.0    13169\n",
              "2.0     7541\n",
              "9.0     6903\n",
              "3.0     5700\n",
              "4.0     4552\n",
              "5.0     3939\n",
              "6.0     3307\n",
              "8.0     3128\n",
              "7.0     2868\n",
              "Name: val_watch, dtype: int64"
            ]
          },
          "metadata": {
            "tags": []
          },
          "execution_count": 27
        }
      ]
    },
    {
      "cell_type": "code",
      "metadata": {
        "execution": {
          "iopub.execute_input": "2021-07-20T13:26:06.029891Z",
          "iopub.status.busy": "2021-07-20T13:26:06.029339Z",
          "iopub.status.idle": "2021-07-20T13:26:06.085468Z",
          "shell.execute_reply": "2021-07-20T13:26:06.084881Z",
          "shell.execute_reply.started": "2021-07-20T13:26:06.029846Z"
        },
        "tags": [],
        "id": "n3i3E6WLU0uf"
      },
      "source": [
        "train_user_behavior_agg = train_behavior.groupby('user_id').agg({\n",
        "    'pt_d': ['count'],\n",
        "    'video_id': ['nunique'],\n",
        "    'is_watch': ['mean', 'max'],\n",
        "    'is_share': ['mean', 'max'],\n",
        "    'watch_label': ['nunique']\n",
        "})"
      ],
      "execution_count": 28,
      "outputs": []
    },
    {
      "cell_type": "code",
      "metadata": {
        "execution": {
          "iopub.execute_input": "2021-07-20T13:26:07.398382Z",
          "iopub.status.busy": "2021-07-20T13:26:07.397799Z",
          "iopub.status.idle": "2021-07-20T13:26:07.405755Z",
          "shell.execute_reply": "2021-07-20T13:26:07.405063Z",
          "shell.execute_reply.started": "2021-07-20T13:26:07.398335Z"
        },
        "tags": [],
        "id": "XNoyVNJPU0uf"
      },
      "source": [
        "train_user_behavior_agg.columns = pd.Index([e[0] + \"_\" + e[1].upper() \n",
        "                for e in train_user_behavior_agg.columns.tolist()])\n",
        "train_user_behavior_agg = train_user_behavior_agg.reset_index()"
      ],
      "execution_count": 29,
      "outputs": []
    },
    {
      "cell_type": "code",
      "metadata": {
        "execution": {
          "iopub.execute_input": "2021-07-20T13:26:08.862489Z",
          "iopub.status.busy": "2021-07-20T13:26:08.861931Z",
          "iopub.status.idle": "2021-07-20T13:26:08.905140Z",
          "shell.execute_reply": "2021-07-20T13:26:08.904690Z",
          "shell.execute_reply.started": "2021-07-20T13:26:08.862442Z"
        },
        "tags": [],
        "colab": {
          "base_uri": "https://localhost:8080/",
          "height": 142
        },
        "id": "UGY8lW6MU0uf",
        "outputId": "d6840b5f-4040-47e7-c4fa-9163874ee6a7"
      },
      "source": [
        "history_behavior[(history_behavior['user_id'] == 2) &\n",
        "               (history_behavior['video_id'] == 25469)]"
      ],
      "execution_count": 30,
      "outputs": [
        {
          "output_type": "execute_result",
          "data": {
            "text/html": [
              "<div>\n",
              "<style scoped>\n",
              "    .dataframe tbody tr th:only-of-type {\n",
              "        vertical-align: middle;\n",
              "    }\n",
              "\n",
              "    .dataframe tbody tr th {\n",
              "        vertical-align: top;\n",
              "    }\n",
              "\n",
              "    .dataframe thead th {\n",
              "        text-align: right;\n",
              "    }\n",
              "</style>\n",
              "<table border=\"1\" class=\"dataframe\">\n",
              "  <thead>\n",
              "    <tr style=\"text-align: right;\">\n",
              "      <th></th>\n",
              "      <th>user_id</th>\n",
              "      <th>video_id</th>\n",
              "      <th>is_watch</th>\n",
              "      <th>is_share</th>\n",
              "      <th>is_collect</th>\n",
              "      <th>is_comment</th>\n",
              "      <th>watch_start_time</th>\n",
              "      <th>watch_label</th>\n",
              "      <th>pt_d</th>\n",
              "    </tr>\n",
              "  </thead>\n",
              "  <tbody>\n",
              "    <tr>\n",
              "      <th>3275584</th>\n",
              "      <td>2</td>\n",
              "      <td>25469</td>\n",
              "      <td>1</td>\n",
              "      <td>0</td>\n",
              "      <td>0</td>\n",
              "      <td>0</td>\n",
              "      <td>2021-04-18</td>\n",
              "      <td>3</td>\n",
              "      <td>20210419</td>\n",
              "    </tr>\n",
              "    <tr>\n",
              "      <th>5290331</th>\n",
              "      <td>2</td>\n",
              "      <td>25469</td>\n",
              "      <td>0</td>\n",
              "      <td>0</td>\n",
              "      <td>0</td>\n",
              "      <td>0</td>\n",
              "      <td>NaN</td>\n",
              "      <td>0</td>\n",
              "      <td>20210421</td>\n",
              "    </tr>\n",
              "    <tr>\n",
              "      <th>2993539</th>\n",
              "      <td>2</td>\n",
              "      <td>25469</td>\n",
              "      <td>0</td>\n",
              "      <td>0</td>\n",
              "      <td>0</td>\n",
              "      <td>0</td>\n",
              "      <td>NaN</td>\n",
              "      <td>0</td>\n",
              "      <td>20210502</td>\n",
              "    </tr>\n",
              "  </tbody>\n",
              "</table>\n",
              "</div>"
            ],
            "text/plain": [
              "         user_id  video_id  is_watch  ...  watch_start_time  watch_label      pt_d\n",
              "3275584        2     25469         1  ...        2021-04-18            3  20210419\n",
              "5290331        2     25469         0  ...               NaN            0  20210421\n",
              "2993539        2     25469         0  ...               NaN            0  20210502\n",
              "\n",
              "[3 rows x 9 columns]"
            ]
          },
          "metadata": {
            "tags": []
          },
          "execution_count": 30
        }
      ]
    },
    {
      "cell_type": "code",
      "metadata": {
        "execution": {
          "iopub.execute_input": "2021-07-20T13:26:12.508310Z",
          "iopub.status.busy": "2021-07-20T13:26:12.507730Z",
          "iopub.status.idle": "2021-07-20T13:26:29.282145Z",
          "shell.execute_reply": "2021-07-20T13:26:29.281065Z",
          "shell.execute_reply.started": "2021-07-20T13:26:12.508261Z"
        },
        "tags": [],
        "id": "7OHftlhXU0uf"
      },
      "source": [
        "import torch\n",
        "import torch.nn.functional as F\n",
        "from torch.autograd import Variable\n",
        "from torch import nn\n",
        "from torch.utils.data import Dataset, DataLoader\n",
        "torch.manual_seed(0)\n",
        "\n",
        "class MLP(nn.Module):\n",
        "\n",
        "    def __init__(self, n_users=5910794, n_items=50352, layers=[64, 32], dropout=False):\n",
        "        super().__init__()\n",
        "        self.user_embedding = torch.nn.Embedding(n_users, 32)\n",
        "        self.video_embedding = torch.nn.Embedding(n_items, 32)\n",
        "\n",
        "        # list of weight matrices\n",
        "        self.fc_layers = torch.nn.ModuleList()\n",
        "        for _, (in_size, out_size) in enumerate(zip(layers[:-1], layers[1:])):\n",
        "            self.fc_layers.append(torch.nn.Linear(in_size, out_size))\n",
        "        self.output_layer1 = torch.nn.Linear(layers[-1], 10)\n",
        "        self.output_layer2 = torch.nn.Linear(layers[-1], 1)\n",
        "\n",
        "    def forward(self, feed_dict):\n",
        "        users = feed_dict['user_id']\n",
        "        items = feed_dict['video_id']\n",
        "        \n",
        "        user_embedding = self.user_embedding(users)\n",
        "        video_embedding = self.video_embedding(items)\n",
        "        \n",
        "        x = torch.cat([user_embedding, video_embedding], 1)\n",
        "        for idx, _ in enumerate(range(len(self.fc_layers))):\n",
        "            x = self.fc_layers[idx](x)\n",
        "            x = F.relu(x)\n",
        "            x = F.dropout(x)\n",
        "        logit1 = self.output_layer1(x)\n",
        "        logit2 = self.output_layer2(x)\n",
        "        return logit1, logit2\n",
        "\n",
        "    def predict(self, feed_dict):\n",
        "        for key in feed_dict:\n",
        "            if type(feed_dict[key]) != type(None):\n",
        "                feed_dict[key] = torch.from_numpy(\n",
        "                    feed_dict[key]).to(dtype=torch.long, device='cpu')\n",
        "        output_scores = self.forward(feed_dict)\n",
        "        return output_scores"
      ],
      "execution_count": 31,
      "outputs": []
    },
    {
      "cell_type": "code",
      "metadata": {
        "execution": {
          "iopub.execute_input": "2021-07-20T13:26:34.408281Z",
          "iopub.status.busy": "2021-07-20T13:26:34.407878Z",
          "iopub.status.idle": "2021-07-20T13:26:36.207217Z",
          "shell.execute_reply": "2021-07-20T13:26:36.206489Z",
          "shell.execute_reply.started": "2021-07-20T13:26:34.408248Z"
        },
        "tags": [],
        "colab": {
          "base_uri": "https://localhost:8080/"
        },
        "id": "eGPYPp1_U0uf",
        "outputId": "00373c85-5697-43c1-eda7-aef94b6ef050"
      },
      "source": [
        "model = MLP()\n",
        "model.predict({'user_id':np.array([10, 10]), 'video_id':np.array([10, 10])})"
      ],
      "execution_count": 32,
      "outputs": [
        {
          "output_type": "execute_result",
          "data": {
            "text/plain": [
              "(tensor([[ 0.0623,  0.5450, -0.2110, -0.1875,  0.6020,  0.0564, -0.0947,  0.2138,\n",
              "           0.2722,  0.4054],\n",
              "         [ 0.0419, -0.1215,  0.0942,  0.4227,  0.2295,  0.3764,  0.2028,  0.5010,\n",
              "           0.4307, -0.2037]], grad_fn=<AddmmBackward>), tensor([[-0.5280],\n",
              "         [-0.2592]], grad_fn=<AddmmBackward>))"
            ]
          },
          "metadata": {
            "tags": []
          },
          "execution_count": 32
        }
      ]
    },
    {
      "cell_type": "code",
      "metadata": {
        "execution": {
          "iopub.execute_input": "2021-07-20T13:26:38.241698Z",
          "iopub.status.busy": "2021-07-20T13:26:38.241152Z",
          "iopub.status.idle": "2021-07-20T13:26:51.333740Z",
          "shell.execute_reply": "2021-07-20T13:26:51.332809Z",
          "shell.execute_reply.started": "2021-07-20T13:26:38.241653Z"
        },
        "tags": [],
        "id": "4VRvYniaU0ug"
      },
      "source": [
        "model = model.cuda()"
      ],
      "execution_count": 33,
      "outputs": []
    },
    {
      "cell_type": "code",
      "metadata": {
        "execution": {
          "iopub.execute_input": "2021-07-20T13:27:34.171619Z",
          "iopub.status.busy": "2021-07-20T13:27:34.171050Z",
          "iopub.status.idle": "2021-07-20T13:27:34.181329Z",
          "shell.execute_reply": "2021-07-20T13:27:34.180356Z",
          "shell.execute_reply.started": "2021-07-20T13:27:34.171572Z"
        },
        "tags": [],
        "colab": {
          "base_uri": "https://localhost:8080/"
        },
        "id": "qfhW4GnBU0ug",
        "outputId": "354b9e76-aa3b-4905-fedc-748d72c72aec"
      },
      "source": [
        "class MLPDataset(Dataset):\n",
        "    def __init__(self, history_behavior, train=True):\n",
        "        self.history_behavior = history_behavior\n",
        "        self.train = train\n",
        "        \n",
        "    def __getitem__(self, index):\n",
        "        user_id = self.history_behavior.iloc[index]['user_id']\n",
        "        video_id = self.history_behavior.iloc[index]['video_id']\n",
        "                \n",
        "        if self.train:\n",
        "            watch_label = self.history_behavior.iloc[index]['val_watch']\n",
        "            share_label = self.history_behavior.iloc[index]['val_share']\n",
        "\n",
        "            watch_label = int(watch_label)\n",
        "            share_label = int(share_label)\n",
        "            \n",
        "            return user_id, video_id, \\\n",
        "                torch.from_numpy(np.array(watch_label)), \\\n",
        "                torch.from_numpy(np.array([share_label]))\n",
        "        else:\n",
        "            return user_id, video_id\n",
        "        \n",
        "    def __len__(self):\n",
        "        return len(self.history_behavior)\n",
        "    \n",
        "train_loader = torch.utils.data.DataLoader(\n",
        "    dataset = MLPDataset(train_behavior),\n",
        "    batch_size=64, shuffle=True, num_workers=5,\n",
        ")\n",
        "\n",
        "test_loader = torch.utils.data.DataLoader(\n",
        "    dataset = MLPDataset(test_data, train=False),\n",
        "    batch_size=64, shuffle=False, num_workers=5,\n",
        ")"
      ],
      "execution_count": 34,
      "outputs": [
        {
          "output_type": "stream",
          "text": [
            "/usr/local/lib/python3.7/dist-packages/torch/utils/data/dataloader.py:481: UserWarning: This DataLoader will create 5 worker processes in total. Our suggested max number of worker in current system is 4, which is smaller than what this DataLoader is going to create. Please be aware that excessive worker creation might get DataLoader running slow or even freeze, lower the worker number to avoid potential slowness/freeze if necessary.\n",
            "  cpuset_checked))\n"
          ],
          "name": "stderr"
        }
      ]
    },
    {
      "cell_type": "code",
      "metadata": {
        "execution": {
          "iopub.execute_input": "2021-07-20T13:27:35.277667Z",
          "iopub.status.busy": "2021-07-20T13:27:35.277133Z"
        },
        "tags": [],
        "colab": {
          "base_uri": "https://localhost:8080/"
        },
        "id": "PPC7bRCyU0ug",
        "outputId": "0605d651-7e24-4d49-eda9-ba5f94644df3"
      },
      "source": [
        "wathch_loss_fn = nn.CrossEntropyLoss(weight=torch.FloatTensor([1,2,2,2,2,2,2,2,2,2]).cuda())\n",
        "shaere_loss_fn = nn.BCEWithLogitsLoss()\n",
        "optimizer = torch.optim.Adam(model.parameters(), lr=0.005)\n",
        "\n",
        "for _ in range(10):\n",
        "    for idx, data in enumerate(train_loader):\n",
        "        feed_dict = {\n",
        "            'user_id': data[0].long().cuda(),\n",
        "            'video_id': data[1].long().cuda(),\n",
        "        }\n",
        "        watch_label = data[2].long().cuda()\n",
        "        share_label = data[3].float().cuda()\n",
        "\n",
        "        optimizer.zero_grad()\n",
        "        wathch_pred, share_pred = model(feed_dict)\n",
        "        loss = wathch_loss_fn(wathch_pred, watch_label) + shaere_loss_fn(share_pred, share_label)\n",
        "\n",
        "        loss.backward()\n",
        "        optimizer.step()\n",
        "\n",
        "        acc = ((wathch_pred.argmax(1) == watch_label)[watch_label != 0]).float().sum()\n",
        "        acc /= (watch_label != 0).float().sum()\n",
        "\n",
        "        if idx % 100 == 0:\n",
        "            print(f'{idx}/{len(train_loader)} \\t {loss.item()}\\t{acc}', (wathch_pred.argmax(1) == watch_label).float().sum())\n",
        "            # print(wathch_pred.argmax(1))"
      ],
      "execution_count": 35,
      "outputs": [
        {
          "output_type": "stream",
          "text": [
            "/usr/local/lib/python3.7/dist-packages/torch/utils/data/dataloader.py:481: UserWarning: This DataLoader will create 5 worker processes in total. Our suggested max number of worker in current system is 4, which is smaller than what this DataLoader is going to create. Please be aware that excessive worker creation might get DataLoader running slow or even freeze, lower the worker number to avoid potential slowness/freeze if necessary.\n",
            "  cpuset_checked))\n"
          ],
          "name": "stderr"
        },
        {
          "output_type": "stream",
          "text": [
            "0/1580 \t 3.025404453277588\t0.09090909361839294 tensor(5., device='cuda:0')\n",
            "100/1580 \t 2.2153494358062744\t0.0 tensor(27., device='cuda:0')\n",
            "200/1580 \t 2.0896356105804443\t0.0 tensor(36., device='cuda:0')\n",
            "300/1580 \t 2.1710684299468994\t0.0 tensor(27., device='cuda:0')\n",
            "400/1580 \t 1.9947601556777954\t0.11428571492433548 tensor(30., device='cuda:0')\n",
            "500/1580 \t 1.996109127998352\t0.0 tensor(34., device='cuda:0')\n",
            "600/1580 \t 2.028996229171753\t0.0625 tensor(31., device='cuda:0')\n",
            "700/1580 \t 1.9207851886749268\t0.06666667014360428 tensor(33., device='cuda:0')\n",
            "800/1580 \t 1.9812768697738647\t0.06060606241226196 tensor(32., device='cuda:0')\n",
            "900/1580 \t 2.0401129722595215\t0.03333333507180214 tensor(30., device='cuda:0')\n",
            "1000/1580 \t 2.0511069297790527\t0.029411764815449715 tensor(29., device='cuda:0')\n",
            "1100/1580 \t 1.825698733329773\t0.1428571492433548 tensor(33., device='cuda:0')\n",
            "1200/1580 \t 1.8949633836746216\t0.0 tensor(35., device='cuda:0')\n",
            "1300/1580 \t 1.9956682920455933\t0.03333333507180214 tensor(34., device='cuda:0')\n",
            "1400/1580 \t 1.7030400037765503\t0.06896551698446274 tensor(37., device='cuda:0')\n",
            "1500/1580 \t 2.144057035446167\t0.0555555559694767 tensor(22., device='cuda:0')\n",
            "0/1580 \t 1.9755146503448486\t0.08571428805589676 tensor(28., device='cuda:0')\n",
            "100/1580 \t 1.6898424625396729\t0.125 tensor(38., device='cuda:0')\n",
            "200/1580 \t 1.9369406700134277\t0.05882352963089943 tensor(30., device='cuda:0')\n",
            "300/1580 \t 1.7157516479492188\t0.23076923191547394 tensor(34., device='cuda:0')\n",
            "400/1580 \t 1.8045508861541748\t0.12121212482452393 tensor(33., device='cuda:0')\n",
            "500/1580 \t 1.960635781288147\t0.1875 tensor(35., device='cuda:0')\n",
            "600/1580 \t 1.954426646232605\t0.05882352963089943 tensor(32., device='cuda:0')\n",
            "700/1580 \t 1.8784804344177246\t0.20000000298023224 tensor(38., device='cuda:0')\n",
            "800/1580 \t 1.9489244222640991\t0.18421052396297455 tensor(29., device='cuda:0')\n",
            "900/1580 \t 2.196624279022217\t0.1794871836900711 tensor(26., device='cuda:0')\n",
            "1000/1580 \t 1.825626254081726\t0.10000000149011612 tensor(30., device='cuda:0')\n",
            "1100/1580 \t 2.0155725479125977\t0.1388888955116272 tensor(28., device='cuda:0')\n",
            "1200/1580 \t 1.9154963493347168\t0.1538461595773697 tensor(28., device='cuda:0')\n",
            "1300/1580 \t 1.6014915704727173\t0.3478260934352875 tensor(41., device='cuda:0')\n",
            "1400/1580 \t 1.6671993732452393\t0.2068965584039688 tensor(37., device='cuda:0')\n",
            "1500/1580 \t 1.7554669380187988\t0.2068965584039688 tensor(38., device='cuda:0')\n",
            "0/1580 \t 1.8394811153411865\t0.1818181872367859 tensor(33., device='cuda:0')\n",
            "100/1580 \t 1.3896143436431885\t0.3571428656578064 tensor(37., device='cuda:0')\n",
            "200/1580 \t 1.7129496335983276\t0.2750000059604645 tensor(35., device='cuda:0')\n",
            "300/1580 \t 1.444324016571045\t0.4054054021835327 tensor(37., device='cuda:0')\n",
            "400/1580 \t 1.889412522315979\t0.10810811072587967 tensor(27., device='cuda:0')\n",
            "500/1580 \t 1.688842535018921\t0.22499999403953552 tensor(32., device='cuda:0')\n",
            "600/1580 \t 1.4266271591186523\t0.34375 tensor(39., device='cuda:0')\n",
            "700/1580 \t 1.7503408193588257\t0.16129031777381897 tensor(31., device='cuda:0')\n",
            "800/1580 \t 1.774715781211853\t0.2142857164144516 tensor(30., device='cuda:0')\n",
            "900/1580 \t 1.5331867933273315\t0.3636363744735718 tensor(41., device='cuda:0')\n",
            "1000/1580 \t 1.4882029294967651\t0.3333333432674408 tensor(37., device='cuda:0')\n",
            "1100/1580 \t 1.6147135496139526\t0.22857142984867096 tensor(34., device='cuda:0')\n",
            "1200/1580 \t 1.7100555896759033\t0.2647058963775635 tensor(29., device='cuda:0')\n",
            "1300/1580 \t 1.6096690893173218\t0.03448275849223137 tensor(33., device='cuda:0')\n",
            "1400/1580 \t 1.535490870475769\t0.1538461595773697 tensor(38., device='cuda:0')\n",
            "1500/1580 \t 1.6053730249404907\t0.29032257199287415 tensor(34., device='cuda:0')\n",
            "0/1580 \t 1.3044499158859253\t0.3235294222831726 tensor(40., device='cuda:0')\n",
            "100/1580 \t 1.2857472896575928\t0.4117647111415863 tensor(39., device='cuda:0')\n",
            "200/1580 \t 1.316267967224121\t0.4838709533214569 tensor(43., device='cuda:0')\n",
            "300/1580 \t 1.430099368095398\t0.25806450843811035 tensor(37., device='cuda:0')\n",
            "400/1580 \t 1.595698595046997\t0.3055555522441864 tensor(31., device='cuda:0')\n",
            "500/1580 \t 1.5806612968444824\t0.24242424964904785 tensor(34., device='cuda:0')\n",
            "600/1580 \t 1.5522072315216064\t0.4482758641242981 tensor(36., device='cuda:0')\n",
            "700/1580 \t 1.308525800704956\t0.4444444477558136 tensor(41., device='cuda:0')\n",
            "800/1580 \t 1.4420560598373413\t0.4117647111415863 tensor(34., device='cuda:0')\n",
            "900/1580 \t 1.332605242729187\t0.28125 tensor(38., device='cuda:0')\n",
            "1000/1580 \t 1.4190346002578735\t0.5 tensor(42., device='cuda:0')\n",
            "1100/1580 \t 1.0781941413879395\t0.5 tensor(46., device='cuda:0')\n",
            "1200/1580 \t 1.6140049695968628\t0.3125 tensor(32., device='cuda:0')\n",
            "1300/1580 \t 1.2162396907806396\t0.36000001430511475 tensor(41., device='cuda:0')\n",
            "1400/1580 \t 1.5423030853271484\t0.4545454680919647 tensor(41., device='cuda:0')\n",
            "1500/1580 \t 1.5451104640960693\t0.37142857909202576 tensor(35., device='cuda:0')\n",
            "0/1580 \t 0.9415171146392822\t0.7037037014961243 tensor(51., device='cuda:0')\n",
            "100/1580 \t 1.2408952713012695\t0.42424243688583374 tensor(39., device='cuda:0')\n",
            "200/1580 \t 1.0850481986999512\t0.5161290168762207 tensor(44., device='cuda:0')\n",
            "300/1580 \t 1.1819231510162354\t0.4838709533214569 tensor(42., device='cuda:0')\n",
            "400/1580 \t 1.1537257432937622\t0.4848484992980957 tensor(42., device='cuda:0')\n",
            "500/1580 \t 1.0902795791625977\t0.3928571343421936 tensor(40., device='cuda:0')\n",
            "600/1580 \t 0.9047921299934387\t0.53125 tensor(46., device='cuda:0')\n",
            "700/1580 \t 0.9176185727119446\t0.6470588445663452 tensor(45., device='cuda:0')\n",
            "800/1580 \t 0.8578265905380249\t0.5384615659713745 tensor(49., device='cuda:0')\n",
            "900/1580 \t 1.233824610710144\t0.5588235259056091 tensor(41., device='cuda:0')\n",
            "1000/1580 \t 1.2148417234420776\t0.3448275923728943 tensor(40., device='cuda:0')\n",
            "1100/1580 \t 0.9036932587623596\t0.6206896305084229 tensor(47., device='cuda:0')\n",
            "1200/1580 \t 1.1181873083114624\t0.5199999809265137 tensor(44., device='cuda:0')\n",
            "1300/1580 \t 1.141575574874878\t0.5 tensor(41., device='cuda:0')\n",
            "1400/1580 \t 0.947933554649353\t0.5 tensor(45., device='cuda:0')\n",
            "1500/1580 \t 0.9471878409385681\t0.6896551847457886 tensor(52., device='cuda:0')\n",
            "0/1580 \t 1.0185781717300415\t0.5 tensor(41., device='cuda:0')\n",
            "100/1580 \t 0.9182788729667664\t0.6052631735801697 tensor(47., device='cuda:0')\n",
            "200/1580 \t 0.8534696698188782\t0.46666666865348816 tensor(44., device='cuda:0')\n",
            "300/1580 \t 0.607412576675415\t0.6666666865348816 tensor(48., device='cuda:0')\n",
            "400/1580 \t 0.8600982427597046\t0.6176470518112183 tensor(46., device='cuda:0')\n",
            "500/1580 \t 0.7456466555595398\t0.6071428656578064 tensor(47., device='cuda:0')\n",
            "600/1580 \t 0.8098339438438416\t0.6000000238418579 tensor(47., device='cuda:0')\n",
            "700/1580 \t 0.7344210147857666\t0.71875 tensor(51., device='cuda:0')\n",
            "800/1580 \t 0.8070970177650452\t0.6666666865348816 tensor(49., device='cuda:0')\n",
            "900/1580 \t 1.2607171535491943\t0.4444444477558136 tensor(37., device='cuda:0')\n",
            "1000/1580 \t 0.9750949740409851\t0.6060606241226196 tensor(41., device='cuda:0')\n",
            "1100/1580 \t 1.0019359588623047\t0.6470588445663452 tensor(48., device='cuda:0')\n",
            "1200/1580 \t 0.7925125956535339\t0.7894737124443054 tensor(54., device='cuda:0')\n",
            "1300/1580 \t 0.7750592231750488\t0.692307710647583 tensor(44., device='cuda:0')\n",
            "1400/1580 \t 1.0029696226119995\t0.4333333373069763 tensor(40., device='cuda:0')\n",
            "1500/1580 \t 0.894395649433136\t0.5333333611488342 tensor(44., device='cuda:0')\n",
            "0/1580 \t 0.9388203620910645\t0.6341463327407837 tensor(45., device='cuda:0')\n",
            "100/1580 \t 1.0344685316085815\t0.5 tensor(40., device='cuda:0')\n",
            "200/1580 \t 0.961081326007843\t0.6111111044883728 tensor(45., device='cuda:0')\n",
            "300/1580 \t 0.9765658378601074\t0.5454545617103577 tensor(45., device='cuda:0')\n",
            "400/1580 \t 0.8209782838821411\t0.6388888955116272 tensor(49., device='cuda:0')\n",
            "500/1580 \t 0.9763710498809814\t0.65625 tensor(52., device='cuda:0')\n",
            "600/1580 \t 0.7795486450195312\t0.6333333253860474 tensor(46., device='cuda:0')\n",
            "700/1580 \t 0.8675445318222046\t0.6206896305084229 tensor(44., device='cuda:0')\n",
            "800/1580 \t 0.8783113956451416\t0.5185185074806213 tensor(47., device='cuda:0')\n",
            "900/1580 \t 1.271877646446228\t0.47058823704719543 tensor(39., device='cuda:0')\n",
            "1000/1580 \t 0.9123269319534302\t0.6451612710952759 tensor(47., device='cuda:0')\n",
            "1100/1580 \t 0.9481039047241211\t0.5714285969734192 tensor(43., device='cuda:0')\n",
            "1200/1580 \t 1.114506483078003\t0.5 tensor(46., device='cuda:0')\n",
            "1300/1580 \t 0.9449630379676819\t0.6896551847457886 tensor(48., device='cuda:0')\n",
            "1400/1580 \t 0.9743562936782837\t0.5263158082962036 tensor(42., device='cuda:0')\n",
            "1500/1580 \t 0.8540324568748474\t0.5882353186607361 tensor(46., device='cuda:0')\n",
            "0/1580 \t 0.7666618227958679\t0.6666666865348816 tensor(48., device='cuda:0')\n",
            "100/1580 \t 1.1234911680221558\t0.699999988079071 tensor(48., device='cuda:0')\n",
            "200/1580 \t 0.6825526356697083\t0.6904761791229248 tensor(48., device='cuda:0')\n",
            "300/1580 \t 0.6259778738021851\t0.75 tensor(52., device='cuda:0')\n",
            "400/1580 \t 0.9659234881401062\t0.6060606241226196 tensor(48., device='cuda:0')\n",
            "500/1580 \t 0.5495253205299377\t0.7575757503509521 tensor(51., device='cuda:0')\n",
            "600/1580 \t 0.7202809453010559\t0.625 tensor(49., device='cuda:0')\n",
            "700/1580 \t 0.9324263334274292\t0.625 tensor(49., device='cuda:0')\n",
            "800/1580 \t 0.7671079039573669\t0.7058823704719543 tensor(50., device='cuda:0')\n",
            "900/1580 \t 0.827995777130127\t0.6451612710952759 tensor(47., device='cuda:0')\n",
            "1000/1580 \t 0.6225820183753967\t0.7096773982048035 tensor(48., device='cuda:0')\n",
            "1100/1580 \t 0.5417886972427368\t0.7333333492279053 tensor(51., device='cuda:0')\n",
            "1200/1580 \t 0.5521542429924011\t0.6538461446762085 tensor(51., device='cuda:0')\n",
            "1300/1580 \t 0.6660504341125488\t0.6363636255264282 tensor(49., device='cuda:0')\n",
            "1400/1580 \t 0.6111943125724792\t0.7428571581840515 tensor(53., device='cuda:0')\n",
            "1500/1580 \t 0.9726551175117493\t0.5161290168762207 tensor(43., device='cuda:0')\n",
            "0/1580 \t 0.316127210855484\t0.8823529481887817 tensor(55., device='cuda:0')\n",
            "100/1580 \t 0.7226269841194153\t0.6944444179534912 tensor(50., device='cuda:0')\n",
            "200/1580 \t 0.592389702796936\t0.75 tensor(53., device='cuda:0')\n",
            "300/1580 \t 0.6233370900154114\t0.7352941036224365 tensor(52., device='cuda:0')\n",
            "400/1580 \t 0.5602387189865112\t0.6857143044471741 tensor(51., device='cuda:0')\n",
            "500/1580 \t 0.5776935815811157\t0.7714285850524902 tensor(53., device='cuda:0')\n",
            "600/1580 \t 0.5096472501754761\t0.7241379022598267 tensor(54., device='cuda:0')\n",
            "700/1580 \t 0.4739043116569519\t0.8275862336158752 tensor(53., device='cuda:0')\n",
            "800/1580 \t 0.6556918621063232\t0.6774193644523621 tensor(53., device='cuda:0')\n",
            "900/1580 \t 0.7595775127410889\t0.5757575631141663 tensor(45., device='cuda:0')\n",
            "1000/1580 \t 0.7628228664398193\t0.6829268336296082 tensor(48., device='cuda:0')\n",
            "1100/1580 \t 0.4547150731086731\t0.8148148059844971 tensor(55., device='cuda:0')\n",
            "1200/1580 \t 0.7217305898666382\t0.6551724076271057 tensor(49., device='cuda:0')\n",
            "1300/1580 \t 0.6774228811264038\t0.6551724076271057 tensor(51., device='cuda:0')\n",
            "1400/1580 \t 0.7834751009941101\t0.7419354915618896 tensor(52., device='cuda:0')\n",
            "1500/1580 \t 0.8222276568412781\t0.5 tensor(46., device='cuda:0')\n",
            "0/1580 \t 0.7089658379554749\t0.7200000286102295 tensor(48., device='cuda:0')\n",
            "100/1580 \t 0.41856297850608826\t0.8125 tensor(56., device='cuda:0')\n",
            "200/1580 \t 0.47167474031448364\t0.7419354915618896 tensor(52., device='cuda:0')\n",
            "300/1580 \t 0.7550510764122009\t0.5806451439857483 tensor(43., device='cuda:0')\n",
            "400/1580 \t 0.7408764362335205\t0.6666666865348816 tensor(45., device='cuda:0')\n",
            "500/1580 \t 0.7235773801803589\t0.6470588445663452 tensor(49., device='cuda:0')\n",
            "600/1580 \t 0.6918122172355652\t0.7333333492279053 tensor(51., device='cuda:0')\n",
            "700/1580 \t 0.731770932674408\t0.6333333253860474 tensor(49., device='cuda:0')\n",
            "800/1580 \t 0.32608896493911743\t0.8333333134651184 tensor(58., device='cuda:0')\n",
            "900/1580 \t 0.5852490067481995\t0.6969696879386902 tensor(50., device='cuda:0')\n",
            "1000/1580 \t 0.5621322989463806\t0.7419354915618896 tensor(54., device='cuda:0')\n",
            "1100/1580 \t 0.510466992855072\t0.7941176295280457 tensor(55., device='cuda:0')\n",
            "1200/1580 \t 0.6376469135284424\t0.7428571581840515 tensor(50., device='cuda:0')\n",
            "1300/1580 \t 0.7546468377113342\t0.7045454382896423 tensor(48., device='cuda:0')\n",
            "1400/1580 \t 0.7377223968505859\t0.7777777910232544 tensor(53., device='cuda:0')\n",
            "1500/1580 \t 0.889072060585022\t0.5806451439857483 tensor(47., device='cuda:0')\n"
          ],
          "name": "stdout"
        }
      ]
    },
    {
      "cell_type": "code",
      "metadata": {
        "execution": {
          "iopub.execute_input": "2021-07-19T10:42:27.940606Z",
          "iopub.status.busy": "2021-07-19T10:42:27.940036Z",
          "iopub.status.idle": "2021-07-19T10:42:27.946175Z",
          "shell.execute_reply": "2021-07-19T10:42:27.945398Z",
          "shell.execute_reply.started": "2021-07-19T10:42:27.940558Z"
        },
        "tags": [],
        "colab": {
          "base_uri": "https://localhost:8080/"
        },
        "id": "eGecSFJhU0ug",
        "outputId": "df327f9f-9daa-442d-cef3-b7d030722aed"
      },
      "source": [
        "wathch_pred.argmax(1) == watch_label"
      ],
      "execution_count": 36,
      "outputs": [
        {
          "output_type": "execute_result",
          "data": {
            "text/plain": [
              "tensor([ True,  True,  True, False,  True,  True,  True,  True,  True,  True,\n",
              "        False,  True,  True,  True,  True,  True,  True,  True,  True,  True,\n",
              "         True,  True,  True, False, False,  True,  True, False,  True,  True,\n",
              "         True,  True,  True,  True,  True,  True,  True,  True,  True,  True,\n",
              "         True,  True,  True,  True,  True,  True,  True,  True,  True,  True,\n",
              "         True], device='cuda:0')"
            ]
          },
          "metadata": {
            "tags": []
          },
          "execution_count": 36
        }
      ]
    },
    {
      "cell_type": "code",
      "metadata": {
        "execution": {
          "iopub.execute_input": "2021-07-19T12:39:34.070494Z",
          "iopub.status.busy": "2021-07-19T12:39:34.069882Z",
          "iopub.status.idle": "2021-07-19T12:41:57.655570Z",
          "shell.execute_reply": "2021-07-19T12:41:57.654845Z",
          "shell.execute_reply.started": "2021-07-19T12:39:34.070443Z"
        },
        "tags": [],
        "colab": {
          "base_uri": "https://localhost:8080/"
        },
        "id": "rE21VpFYU0ug",
        "outputId": "0641b808-b8bf-473c-e649-1325829c8ed4"
      },
      "source": [
        "test_watch = []\n",
        "test_share = []\n",
        "with torch.no_grad():\n",
        "    for data in test_loader:\n",
        "        feed_dict = {\n",
        "            'user_id': data[0].long().cuda(),\n",
        "            'video_id': data[1].long().cuda(),\n",
        "        }\n",
        "        wathch_pred, share_pred = model(feed_dict)\n",
        "        \n",
        "        test_watch += list(wathch_pred.argmax(1).cpu().data.numpy())\n",
        "        test_share += list((share_pred.sigmoid() > 0.5).int().cpu().data.numpy().flatten())"
      ],
      "execution_count": 37,
      "outputs": [
        {
          "output_type": "stream",
          "text": [
            "/usr/local/lib/python3.7/dist-packages/torch/utils/data/dataloader.py:481: UserWarning: This DataLoader will create 5 worker processes in total. Our suggested max number of worker in current system is 4, which is smaller than what this DataLoader is going to create. Please be aware that excessive worker creation might get DataLoader running slow or even freeze, lower the worker number to avoid potential slowness/freeze if necessary.\n",
            "  cpuset_checked))\n"
          ],
          "name": "stderr"
        }
      ]
    },
    {
      "cell_type": "code",
      "metadata": {
        "execution": {
          "iopub.execute_input": "2021-07-19T08:55:23.222073Z",
          "iopub.status.busy": "2021-07-19T08:55:23.221482Z",
          "iopub.status.idle": "2021-07-19T08:55:24.263345Z",
          "shell.execute_reply": "2021-07-19T08:55:24.262447Z",
          "shell.execute_reply.started": "2021-07-19T08:55:23.222025Z"
        },
        "tags": [],
        "id": "_KpXyBt_U0uh"
      },
      "source": [
        "test_data['watch_label'] = test_watch\n",
        "test_data['is_share'] = test_share"
      ],
      "execution_count": 38,
      "outputs": []
    },
    {
      "cell_type": "code",
      "metadata": {
        "execution": {
          "iopub.execute_input": "2021-07-19T08:56:12.884082Z",
          "iopub.status.busy": "2021-07-19T08:56:12.883576Z",
          "iopub.status.idle": "2021-07-19T08:56:15.450868Z",
          "shell.execute_reply": "2021-07-19T08:56:15.449815Z",
          "shell.execute_reply.started": "2021-07-19T08:56:12.884040Z"
        },
        "tags": [],
        "id": "FpsTedK_U0uh"
      },
      "source": [
        "test_data.to_csv('submission.csv', index=None)"
      ],
      "execution_count": 39,
      "outputs": []
    },
    {
      "cell_type": "code",
      "metadata": {
        "execution": {
          "iopub.execute_input": "2021-07-19T08:57:08.384850Z",
          "iopub.status.busy": "2021-07-19T08:57:08.384427Z",
          "iopub.status.idle": "2021-07-19T08:57:11.487821Z",
          "shell.execute_reply": "2021-07-19T08:57:11.486325Z",
          "shell.execute_reply.started": "2021-07-19T08:57:08.384816Z"
        },
        "colab": {
          "base_uri": "https://localhost:8080/"
        },
        "id": "q9Tld0jfU0uh",
        "outputId": "75310f11-cf30-464f-dbc2-01d487ef88e6"
      },
      "source": [
        "!zip submission.csv.zip submission.csv"
      ],
      "execution_count": 40,
      "outputs": [
        {
          "output_type": "stream",
          "text": [
            "  adding: submission.csv (deflated 62%)\n"
          ],
          "name": "stdout"
        }
      ]
    },
    {
      "cell_type": "code",
      "metadata": {
        "id": "1k4loq71U0uh"
      },
      "source": [
        ""
      ],
      "execution_count": null,
      "outputs": []
    }
  ]
}